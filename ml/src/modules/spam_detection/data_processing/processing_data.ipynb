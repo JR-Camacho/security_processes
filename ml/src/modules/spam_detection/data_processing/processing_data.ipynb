{
 "cells": [
  {
   "cell_type": "code",
   "execution_count": 2,
   "metadata": {
    "collapsed": true,
    "ExecuteTime": {
     "end_time": "2023-07-13T18:05:30.481507Z",
     "start_time": "2023-07-13T18:05:26.130205Z"
    }
   },
   "outputs": [
    {
     "name": "stderr",
     "output_type": "stream",
     "text": [
      "[nltk_data] Downloading package stopwords to\n",
      "[nltk_data]     /Users/josecamacho/nltk_data...\n",
      "[nltk_data]   Package stopwords is already up-to-date!\n"
     ]
    }
   ],
   "source": [
    "from src.utils.process_email import create_prep_dataset\n",
    "\n",
    "from sklearn.feature_extraction.text import CountVectorizer\n",
    "import numpy as np\n",
    "import pickle"
   ]
  },
  {
   "cell_type": "code",
   "execution_count": 3,
   "outputs": [
    {
     "name": "stdout",
     "output_type": "stream",
     "text": [
      "Parsing email: 12000"
     ]
    }
   ],
   "source": [
    "#Create preprocessed dataset\n",
    "\n",
    "DATASET_PATH = \"../../../../data/raw/trec07p\"\n",
    "INDEX_PATH = \"../../../../data/raw/trec07p/full/index\"\n",
    "\n",
    "X, y = create_prep_dataset(DATASET_PATH, INDEX_PATH, 12000)"
   ],
   "metadata": {
    "collapsed": false,
    "ExecuteTime": {
     "end_time": "2023-07-13T18:06:52.305547Z",
     "start_time": "2023-07-13T18:05:37.403688Z"
    }
   }
  },
  {
   "cell_type": "code",
   "execution_count": 16,
   "outputs": [],
   "source": [
    "#Train and test data\n",
    "X_train, y_train = X[:10000], y[:10000]\n",
    "X_test, y_test = X[10000:], y[10000:]"
   ],
   "metadata": {
    "collapsed": false,
    "ExecuteTime": {
     "end_time": "2023-07-13T18:12:24.475280Z",
     "start_time": "2023-07-13T18:12:24.466893Z"
    }
   }
  },
  {
   "cell_type": "code",
   "execution_count": 17,
   "outputs": [
    {
     "name": "stdout",
     "output_type": "stream",
     "text": [
      "Train data length: X = 10000  -  y = 10000\n",
      "Train data length: X = 2000  -  y = 2000\n"
     ]
    }
   ],
   "source": [
    "print('Train data length:', 'X =', len(X_train), ' - ' , 'y =', len(y_train))\n",
    "print('Train data length:', 'X =', len(X_test), ' - ' , 'y =', len(y_test))"
   ],
   "metadata": {
    "collapsed": false,
    "ExecuteTime": {
     "end_time": "2023-07-13T18:12:26.214551Z",
     "start_time": "2023-07-13T18:12:26.179024Z"
    }
   }
  },
  {
   "cell_type": "code",
   "execution_count": 11,
   "outputs": [],
   "source": [
    "#Vectorize data\n",
    "vectorizer = CountVectorizer()\n",
    "\n",
    "X_train = vectorizer.fit_transform(X_train)\n",
    "X_test = vectorizer.transform(X_test)"
   ],
   "metadata": {
    "collapsed": false,
    "ExecuteTime": {
     "end_time": "2023-07-13T18:10:32.041635Z",
     "start_time": "2023-07-13T18:10:29.627419Z"
    }
   }
  },
  {
   "cell_type": "code",
   "execution_count": 12,
   "outputs": [],
   "source": [
    "#Save the data\n",
    "np.savez('../../../../data/processed/mails/train_data', inputs=X_train.toarray(), targets=y_train)\n",
    "np.savez('../../../../data/processed/mails/test_data', inputs=X_test.toarray(), targets=y_test)"
   ],
   "metadata": {
    "collapsed": false,
    "ExecuteTime": {
     "end_time": "2023-07-13T18:10:50.918218Z",
     "start_time": "2023-07-13T18:10:33.801834Z"
    }
   }
  },
  {
   "cell_type": "code",
   "execution_count": 13,
   "outputs": [],
   "source": [
    "#Save the vectorizer\n",
    "with open('../../../../models/spam_detection/vectorizer/vectorizer.pkl', 'wb') as f:\n",
    "    pickle.dump(vectorizer, f)"
   ],
   "metadata": {
    "collapsed": false,
    "ExecuteTime": {
     "end_time": "2023-07-13T18:10:55.855603Z",
     "start_time": "2023-07-13T18:10:55.843748Z"
    }
   }
  },
  {
   "cell_type": "code",
   "execution_count": null,
   "outputs": [],
   "source": [],
   "metadata": {
    "collapsed": false
   }
  }
 ],
 "metadata": {
  "kernelspec": {
   "display_name": "Python 3",
   "language": "python",
   "name": "python3"
  },
  "language_info": {
   "codemirror_mode": {
    "name": "ipython",
    "version": 2
   },
   "file_extension": ".py",
   "mimetype": "text/x-python",
   "name": "python",
   "nbconvert_exporter": "python",
   "pygments_lexer": "ipython2",
   "version": "2.7.6"
  }
 },
 "nbformat": 4,
 "nbformat_minor": 0
}
