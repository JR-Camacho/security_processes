{
 "cells": [
  {
   "cell_type": "code",
   "execution_count": 1,
   "metadata": {
    "collapsed": true,
    "ExecuteTime": {
     "end_time": "2023-06-25T23:20:18.615734Z",
     "start_time": "2023-06-25T23:20:10.291896Z"
    }
   },
   "outputs": [
    {
     "name": "stderr",
     "output_type": "stream",
     "text": [
      "[nltk_data] Downloading package stopwords to\n",
      "[nltk_data]     /Users/josecamacho/nltk_data...\n",
      "[nltk_data]   Package stopwords is already up-to-date!\n"
     ]
    }
   ],
   "source": [
    "from src.utils.process_email import create_prep_dataset\n",
    "\n",
    "from sklearn.feature_extraction.text import CountVectorizer\n",
    "import numpy as np\n",
    "import pickle"
   ]
  },
  {
   "cell_type": "code",
   "execution_count": 6,
   "outputs": [
    {
     "name": "stdout",
     "output_type": "stream",
     "text": [
      "Parsing email: 150"
     ]
    }
   ],
   "source": [
    "#Create preprocessed dataset\n",
    "\n",
    "DATASET_PATH = \"../../../../data/raw/trec07p\"\n",
    "INDEX_PATH = \"../../../../data/raw/trec07p/full/index\"\n",
    "\n",
    "X, y = create_prep_dataset(DATASET_PATH, INDEX_PATH, 150)\n",
    "\n",
    "#Train data\n",
    "X_train = X[:100]\n",
    "y_train = y[:100]\n",
    "\n",
    "#Test data\n",
    "X_test = X[100:]\n",
    "y_test = y[100:]"
   ],
   "metadata": {
    "collapsed": false,
    "ExecuteTime": {
     "end_time": "2023-06-25T23:21:44.339987Z",
     "start_time": "2023-06-25T23:21:43.025466Z"
    }
   }
  },
  {
   "cell_type": "code",
   "execution_count": 7,
   "outputs": [],
   "source": [
    "#Vectorize data\n",
    "vectorizer = CountVectorizer()\n",
    "\n",
    "X_train = vectorizer.fit_transform(X_train)\n",
    "X_test = vectorizer.transform(X_test)"
   ],
   "metadata": {
    "collapsed": false,
    "ExecuteTime": {
     "end_time": "2023-06-25T23:21:45.144239Z",
     "start_time": "2023-06-25T23:21:45.120774Z"
    }
   }
  },
  {
   "cell_type": "code",
   "execution_count": 8,
   "outputs": [],
   "source": [
    "#Save the data\n",
    "np.savez('../../../../data/processed/mails/train_data', inputs=X_train.toarray(), targets=y_train)\n",
    "np.savez('../../../../data/processed/mails/test_data', inputs=X_test.toarray(), targets=y_test)"
   ],
   "metadata": {
    "collapsed": false,
    "ExecuteTime": {
     "end_time": "2023-06-25T23:21:48.942978Z",
     "start_time": "2023-06-25T23:21:48.910967Z"
    }
   }
  },
  {
   "cell_type": "code",
   "execution_count": 9,
   "outputs": [],
   "source": [
    "#Save the vectorizer\n",
    "with open('../../../../models/spam_detection/vectorizer/vectorizer.pkl', 'wb') as f:\n",
    "    pickle.dump(vectorizer, f)"
   ],
   "metadata": {
    "collapsed": false,
    "ExecuteTime": {
     "end_time": "2023-06-25T23:21:52.972439Z",
     "start_time": "2023-06-25T23:21:52.938291Z"
    }
   }
  },
  {
   "cell_type": "code",
   "execution_count": null,
   "outputs": [],
   "source": [],
   "metadata": {
    "collapsed": false
   }
  }
 ],
 "metadata": {
  "kernelspec": {
   "display_name": "Python 3",
   "language": "python",
   "name": "python3"
  },
  "language_info": {
   "codemirror_mode": {
    "name": "ipython",
    "version": 2
   },
   "file_extension": ".py",
   "mimetype": "text/x-python",
   "name": "python",
   "nbconvert_exporter": "python",
   "pygments_lexer": "ipython2",
   "version": "2.7.6"
  }
 },
 "nbformat": 4,
 "nbformat_minor": 0
}
