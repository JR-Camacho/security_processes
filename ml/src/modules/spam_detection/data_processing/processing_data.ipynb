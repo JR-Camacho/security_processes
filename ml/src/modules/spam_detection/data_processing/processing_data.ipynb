{
 "cells": [
  {
   "cell_type": "code",
   "execution_count": 2,
   "metadata": {
    "collapsed": true,
    "ExecuteTime": {
     "end_time": "2023-06-21T03:37:16.687242Z",
     "start_time": "2023-06-21T03:37:08.096770Z"
    }
   },
   "outputs": [],
   "source": [
    "from src.utils.process_email import create_prep_dataset\n",
    "\n",
    "from sklearn.feature_extraction.text import CountVectorizer\n",
    "import numpy as np"
   ]
  },
  {
   "cell_type": "code",
   "execution_count": 3,
   "outputs": [
    {
     "name": "stdout",
     "output_type": "stream",
     "text": [
      "Parsing email: 150"
     ]
    }
   ],
   "source": [
    "#Create preprocessed dataset\n",
    "\n",
    "DATASET_PATH = \"../../../../data/raw/trec07p\"\n",
    "INDEX_PATH = \"../../../../data/raw/trec07p/full/index\"\n",
    "\n",
    "X, y = create_prep_dataset(DATASET_PATH, INDEX_PATH, 150)\n",
    "\n",
    "#Train data\n",
    "X_train = X[:100]\n",
    "y_train = y[:100]\n",
    "\n",
    "#Test data\n",
    "X_test = X[100:]\n",
    "y_test = y[100:]"
   ],
   "metadata": {
    "collapsed": false,
    "ExecuteTime": {
     "end_time": "2023-06-21T03:37:17.987304Z",
     "start_time": "2023-06-21T03:37:16.692038Z"
    }
   }
  },
  {
   "cell_type": "code",
   "execution_count": 13,
   "outputs": [],
   "source": [
    "#Vectorize data\n",
    "\n",
    "vectorizer = CountVectorizer()\n",
    "\n",
    "X_train = vectorizer.fit_transform(X_train)\n",
    "X_test = vectorizer.transform(X_test)"
   ],
   "metadata": {
    "collapsed": false,
    "ExecuteTime": {
     "end_time": "2023-06-20T03:18:49.236627Z",
     "start_time": "2023-06-20T03:18:49.208004Z"
    }
   }
  },
  {
   "cell_type": "code",
   "execution_count": 14,
   "outputs": [],
   "source": [
    "#Save the data\n",
    "np.savez('../../../../data/processed/mails/train_data', inputs=X_train.toarray(), targets=y_train)\n",
    "np.savez('../../../../data/processed/mails/test_data', inputs=X_test.toarray(), targets=y_test)"
   ],
   "metadata": {
    "collapsed": false,
    "ExecuteTime": {
     "end_time": "2023-06-20T03:18:50.353836Z",
     "start_time": "2023-06-20T03:18:50.323106Z"
    }
   }
  },
  {
   "cell_type": "code",
   "execution_count": null,
   "outputs": [],
   "source": [],
   "metadata": {
    "collapsed": false
   }
  }
 ],
 "metadata": {
  "kernelspec": {
   "display_name": "Python 3",
   "language": "python",
   "name": "python3"
  },
  "language_info": {
   "codemirror_mode": {
    "name": "ipython",
    "version": 2
   },
   "file_extension": ".py",
   "mimetype": "text/x-python",
   "name": "python",
   "nbconvert_exporter": "python",
   "pygments_lexer": "ipython2",
   "version": "2.7.6"
  }
 },
 "nbformat": 4,
 "nbformat_minor": 0
}
