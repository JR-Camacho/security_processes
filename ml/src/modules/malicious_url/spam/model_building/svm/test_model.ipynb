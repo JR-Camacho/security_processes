{
 "cells": [
  {
   "cell_type": "markdown",
   "source": [
    "Test the model (Make predictions)"
   ],
   "metadata": {
    "collapsed": false
   }
  },
  {
   "cell_type": "code",
   "execution_count": 2,
   "outputs": [],
   "source": [
    "from src.utils.process_url import get_url_spam_features\n",
    "import joblib"
   ],
   "metadata": {
    "collapsed": false,
    "ExecuteTime": {
     "end_time": "2023-07-17T16:44:41.403582Z",
     "start_time": "2023-07-17T16:44:41.394158Z"
    }
   }
  },
  {
   "cell_type": "code",
   "execution_count": 3,
   "outputs": [
    {
     "data": {
      "text/plain": "    tld  SymbolCount_Domain  NumberofDotsinURL  domain_token_count  \\\n0     2                   1                  2                   3   \n1     2                   1                  1                   2   \n2     2                   1                  2                   3   \n3    15                   1                  3                   3   \n4     5                   1                  2                   3   \n5     0                   2                  1                   2   \n6     2                   1                  2                   3   \n7     2                   1                  2                   2   \n8     2                   1                  2                   3   \n9     2                   1                  2                   3   \n10    2                   2                  3                   3   \n11    2                   2                  4                   3   \n\n    CharacterContinuityRate  SymbolCount_URL  ArgUrlRatio  argPathRatio  \\\n0                  0.875000               10     0.229167      0.846154   \n1                  0.857143                8     0.000000      0.000000   \n2                  0.800000               10     0.000000      0.000000   \n3                  0.750000               10     0.000000      0.000000   \n4                  0.833333                7     0.000000      0.000000   \n5                  0.700000                8     0.000000      0.000000   \n6                  0.857143               13     0.000000      0.000000   \n7                  0.666667                8     0.000000      0.000000   \n8                  0.875000               12     0.577465      6.833333   \n9                  0.857143               11     0.000000      0.000000   \n10                 0.875000               12     0.406250      2.600000   \n11                 0.888889               18     0.485981      2.888889   \n\n    SymbolCount_FileName  SymbolCount_Extension  Extension_DigitCount  \\\n0                      0                     -1                    -1   \n1                      1                     -1                    -1   \n2                      0                     -1                    -1   \n3                      2                      1                     4   \n4                     -1                     -1                    -1   \n5                      0                     -1                    -1   \n6                      5                     -1                    -1   \n7                      2                      1                     0   \n8                      0                     -1                    -1   \n9                      4                     -1                    -1   \n10                     1                      1                     0   \n11                     1                      1                     0   \n\n    SymbolCount_Afterpath  domainlength  \n0                       0            15  \n1                      -1            10  \n2                      -1            12  \n3                      -1            10  \n4                      -1            13  \n5                      -1            14  \n6                      -1            14  \n7                      -1            11  \n8                       2            15  \n9                      -1            15  \n10                      1            20  \n11                      4            29  ",
      "text/html": "<div>\n<style scoped>\n    .dataframe tbody tr th:only-of-type {\n        vertical-align: middle;\n    }\n\n    .dataframe tbody tr th {\n        vertical-align: top;\n    }\n\n    .dataframe thead th {\n        text-align: right;\n    }\n</style>\n<table border=\"1\" class=\"dataframe\">\n  <thead>\n    <tr style=\"text-align: right;\">\n      <th></th>\n      <th>tld</th>\n      <th>SymbolCount_Domain</th>\n      <th>NumberofDotsinURL</th>\n      <th>domain_token_count</th>\n      <th>CharacterContinuityRate</th>\n      <th>SymbolCount_URL</th>\n      <th>ArgUrlRatio</th>\n      <th>argPathRatio</th>\n      <th>SymbolCount_FileName</th>\n      <th>SymbolCount_Extension</th>\n      <th>Extension_DigitCount</th>\n      <th>SymbolCount_Afterpath</th>\n      <th>domainlength</th>\n    </tr>\n  </thead>\n  <tbody>\n    <tr>\n      <th>0</th>\n      <td>2</td>\n      <td>1</td>\n      <td>2</td>\n      <td>3</td>\n      <td>0.875000</td>\n      <td>10</td>\n      <td>0.229167</td>\n      <td>0.846154</td>\n      <td>0</td>\n      <td>-1</td>\n      <td>-1</td>\n      <td>0</td>\n      <td>15</td>\n    </tr>\n    <tr>\n      <th>1</th>\n      <td>2</td>\n      <td>1</td>\n      <td>1</td>\n      <td>2</td>\n      <td>0.857143</td>\n      <td>8</td>\n      <td>0.000000</td>\n      <td>0.000000</td>\n      <td>1</td>\n      <td>-1</td>\n      <td>-1</td>\n      <td>-1</td>\n      <td>10</td>\n    </tr>\n    <tr>\n      <th>2</th>\n      <td>2</td>\n      <td>1</td>\n      <td>2</td>\n      <td>3</td>\n      <td>0.800000</td>\n      <td>10</td>\n      <td>0.000000</td>\n      <td>0.000000</td>\n      <td>0</td>\n      <td>-1</td>\n      <td>-1</td>\n      <td>-1</td>\n      <td>12</td>\n    </tr>\n    <tr>\n      <th>3</th>\n      <td>15</td>\n      <td>1</td>\n      <td>3</td>\n      <td>3</td>\n      <td>0.750000</td>\n      <td>10</td>\n      <td>0.000000</td>\n      <td>0.000000</td>\n      <td>2</td>\n      <td>1</td>\n      <td>4</td>\n      <td>-1</td>\n      <td>10</td>\n    </tr>\n    <tr>\n      <th>4</th>\n      <td>5</td>\n      <td>1</td>\n      <td>2</td>\n      <td>3</td>\n      <td>0.833333</td>\n      <td>7</td>\n      <td>0.000000</td>\n      <td>0.000000</td>\n      <td>-1</td>\n      <td>-1</td>\n      <td>-1</td>\n      <td>-1</td>\n      <td>13</td>\n    </tr>\n    <tr>\n      <th>5</th>\n      <td>0</td>\n      <td>2</td>\n      <td>1</td>\n      <td>2</td>\n      <td>0.700000</td>\n      <td>8</td>\n      <td>0.000000</td>\n      <td>0.000000</td>\n      <td>0</td>\n      <td>-1</td>\n      <td>-1</td>\n      <td>-1</td>\n      <td>14</td>\n    </tr>\n    <tr>\n      <th>6</th>\n      <td>2</td>\n      <td>1</td>\n      <td>2</td>\n      <td>3</td>\n      <td>0.857143</td>\n      <td>13</td>\n      <td>0.000000</td>\n      <td>0.000000</td>\n      <td>5</td>\n      <td>-1</td>\n      <td>-1</td>\n      <td>-1</td>\n      <td>14</td>\n    </tr>\n    <tr>\n      <th>7</th>\n      <td>2</td>\n      <td>1</td>\n      <td>2</td>\n      <td>2</td>\n      <td>0.666667</td>\n      <td>8</td>\n      <td>0.000000</td>\n      <td>0.000000</td>\n      <td>2</td>\n      <td>1</td>\n      <td>0</td>\n      <td>-1</td>\n      <td>11</td>\n    </tr>\n    <tr>\n      <th>8</th>\n      <td>2</td>\n      <td>1</td>\n      <td>2</td>\n      <td>3</td>\n      <td>0.875000</td>\n      <td>12</td>\n      <td>0.577465</td>\n      <td>6.833333</td>\n      <td>0</td>\n      <td>-1</td>\n      <td>-1</td>\n      <td>2</td>\n      <td>15</td>\n    </tr>\n    <tr>\n      <th>9</th>\n      <td>2</td>\n      <td>1</td>\n      <td>2</td>\n      <td>3</td>\n      <td>0.857143</td>\n      <td>11</td>\n      <td>0.000000</td>\n      <td>0.000000</td>\n      <td>4</td>\n      <td>-1</td>\n      <td>-1</td>\n      <td>-1</td>\n      <td>15</td>\n    </tr>\n    <tr>\n      <th>10</th>\n      <td>2</td>\n      <td>2</td>\n      <td>3</td>\n      <td>3</td>\n      <td>0.875000</td>\n      <td>12</td>\n      <td>0.406250</td>\n      <td>2.600000</td>\n      <td>1</td>\n      <td>1</td>\n      <td>0</td>\n      <td>1</td>\n      <td>20</td>\n    </tr>\n    <tr>\n      <th>11</th>\n      <td>2</td>\n      <td>2</td>\n      <td>4</td>\n      <td>3</td>\n      <td>0.888889</td>\n      <td>18</td>\n      <td>0.485981</td>\n      <td>2.888889</td>\n      <td>1</td>\n      <td>1</td>\n      <td>0</td>\n      <td>4</td>\n      <td>29</td>\n    </tr>\n  </tbody>\n</table>\n</div>"
     },
     "execution_count": 3,
     "metadata": {},
     "output_type": "execute_result"
    }
   ],
   "source": [
    "#Make predictions\n",
    "urls = [\n",
    "    \"https://www.example.com/path/to/page?param=value\",\n",
    "    \"https://github.com/JR-Camacho/security_processes\",\n",
    "    \"https://www.mdpi.com/2079-9292/11/7/1090\",\n",
    "    \"https://www.unb.ca/cic/datasets/url-2016.html\",\n",
    "    \"https://www.utesa.edu/home/\",\n",
    "    \"http://example.com:80/path/to/page\",\n",
    "    \"https://www.kaggle.com/code/eslamfouad/statistical-inference-of-malicious-urls-dataset\",\n",
    "    \"https://mp3raid.com/music/krizz_kaliko.html\",\n",
    "    \"https://www.youtube.com/watch?v=PVjiKRfKpPI&list=RDEgBJmlPo8Xw&index=27\",\n",
    "    \"https://chat.openai.com/c/b4e1f400-58a0-444b-811e-aa065832809b\",\n",
    "    \"http://www.malware-site.com/login.php?user=admin&password=123456\",\n",
    "    \"http://www.evilsite-secure-login.com/banking/login.php?user=admin&password=123456&redirect=malware-site.com\"\n",
    "]\n",
    "\n",
    "df = get_url_spam_features(urls)\n",
    "df"
   ],
   "metadata": {
    "collapsed": false,
    "ExecuteTime": {
     "end_time": "2023-07-17T16:44:41.858626Z",
     "start_time": "2023-07-17T16:44:41.837329Z"
    }
   }
  },
  {
   "cell_type": "code",
   "execution_count": 4,
   "outputs": [],
   "source": [
    "#Import model\n",
    "MODEL_PATH = '../../../../../../models/malicius_url/spam/svm/spam_url_detection.pkl'\n",
    "\n",
    "model = joblib.load(MODEL_PATH)"
   ],
   "metadata": {
    "collapsed": false,
    "ExecuteTime": {
     "end_time": "2023-07-17T16:44:56.410951Z",
     "start_time": "2023-07-17T16:44:55.296905Z"
    }
   }
  },
  {
   "cell_type": "code",
   "execution_count": 5,
   "outputs": [
    {
     "name": "stderr",
     "output_type": "stream",
     "text": [
      "/Users/josecamacho/Desktop/Projects/security/ml/venv/lib/python3.11/site-packages/sklearn/base.py:432: UserWarning: X has feature names, but SVC was fitted without feature names\n",
      "  warnings.warn(\n"
     ]
    },
    {
     "data": {
      "text/plain": "array([1, 0, 0, 1, 1, 0, 0, 0, 1, 0, 1, 1])"
     },
     "execution_count": 5,
     "metadata": {},
     "output_type": "execute_result"
    }
   ],
   "source": [
    "y_pred = model.predict(df)\n",
    "y_pred"
   ],
   "metadata": {
    "collapsed": false,
    "ExecuteTime": {
     "end_time": "2023-07-17T16:44:56.905652Z",
     "start_time": "2023-07-17T16:44:56.882450Z"
    }
   }
  },
  {
   "cell_type": "code",
   "execution_count": null,
   "outputs": [],
   "source": [],
   "metadata": {
    "collapsed": false
   }
  }
 ],
 "metadata": {
  "kernelspec": {
   "display_name": "Python 3",
   "language": "python",
   "name": "python3"
  },
  "language_info": {
   "codemirror_mode": {
    "name": "ipython",
    "version": 2
   },
   "file_extension": ".py",
   "mimetype": "text/x-python",
   "name": "python",
   "nbconvert_exporter": "python",
   "pygments_lexer": "ipython2",
   "version": "2.7.6"
  }
 },
 "nbformat": 4,
 "nbformat_minor": 0
}
