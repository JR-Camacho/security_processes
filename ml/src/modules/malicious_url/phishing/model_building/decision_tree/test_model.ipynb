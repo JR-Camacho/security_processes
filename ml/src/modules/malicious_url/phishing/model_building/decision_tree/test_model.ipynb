{
 "cells": [
  {
   "cell_type": "markdown",
   "source": [
    "Test the model (Make predictions)"
   ],
   "metadata": {
    "collapsed": false
   }
  },
  {
   "cell_type": "code",
   "execution_count": 2,
   "outputs": [],
   "source": [
    "from src.utils.process_url import get_url_phishing_features\n",
    "import joblib"
   ],
   "metadata": {
    "collapsed": false,
    "ExecuteTime": {
     "end_time": "2023-07-17T16:30:48.141514Z",
     "start_time": "2023-07-17T16:30:48.131066Z"
    }
   }
  },
  {
   "cell_type": "code",
   "execution_count": 3,
   "outputs": [
    {
     "data": {
      "text/plain": "    domainUrlRatio  tld  domainlength  SymbolCount_URL  pathDomainRatio  \\\n0         0.312500    2            15               10         0.866667   \n1         0.208333    2            10                7         3.000000   \n2         0.300000    2            12                9         1.666667   \n3         0.222222   15            10                9         2.700000   \n4         0.481481    5            13                7         0.461538   \n5         0.411765    0            14                8         0.928571   \n6         0.162791    2            14                8         4.571429   \n7         0.255814    2            11                8         2.181818   \n8         0.211268    2            15               12         0.400000   \n9         0.241935    2            15                7         2.600000   \n10        0.312500    2            20               11         0.500000   \n11        0.271028    2            29               15         0.620690   \n\n    isPortEighty  domain_token_count  pathurlRatio  Query_LetterCount  \\\n0             -1                   3      0.270833                 10   \n1             -1                   2      0.625000                 -1   \n2             -1                   3      0.500000                 -1   \n3             -1                   3      0.600000                 -1   \n4             -1                   3      0.222222                 -1   \n5              0                   2      0.382353                 -1   \n6             -1                   3      0.744186                 -1   \n7             -1                   2      0.558140                 -1   \n8             -1                   3      0.084507                 33   \n9             -1                   3      0.629032                 -1   \n10            -1                   3      0.156250                 17   \n11            -1                   3      0.168224                 39   \n\n    URL_Letter_Count  urlLen  pathLength  argDomanRatio  \n0                 38      48          13       0.733333  \n1                 40      48          30       0.000000  \n2                 15      40          20       0.000000  \n3                 31      45          27       0.000000  \n4                 20      27           6       0.000000  \n5                 24      34          13       0.000000  \n6                 73      86          64       0.000000  \n7                 34      43          24       0.000000  \n8                 56      71           6       2.733333  \n9                 28      62          39       0.000000  \n10                46      64          10       1.300000  \n11                83     107          18       1.793103  ",
      "text/html": "<div>\n<style scoped>\n    .dataframe tbody tr th:only-of-type {\n        vertical-align: middle;\n    }\n\n    .dataframe tbody tr th {\n        vertical-align: top;\n    }\n\n    .dataframe thead th {\n        text-align: right;\n    }\n</style>\n<table border=\"1\" class=\"dataframe\">\n  <thead>\n    <tr style=\"text-align: right;\">\n      <th></th>\n      <th>domainUrlRatio</th>\n      <th>tld</th>\n      <th>domainlength</th>\n      <th>SymbolCount_URL</th>\n      <th>pathDomainRatio</th>\n      <th>isPortEighty</th>\n      <th>domain_token_count</th>\n      <th>pathurlRatio</th>\n      <th>Query_LetterCount</th>\n      <th>URL_Letter_Count</th>\n      <th>urlLen</th>\n      <th>pathLength</th>\n      <th>argDomanRatio</th>\n    </tr>\n  </thead>\n  <tbody>\n    <tr>\n      <th>0</th>\n      <td>0.312500</td>\n      <td>2</td>\n      <td>15</td>\n      <td>10</td>\n      <td>0.866667</td>\n      <td>-1</td>\n      <td>3</td>\n      <td>0.270833</td>\n      <td>10</td>\n      <td>38</td>\n      <td>48</td>\n      <td>13</td>\n      <td>0.733333</td>\n    </tr>\n    <tr>\n      <th>1</th>\n      <td>0.208333</td>\n      <td>2</td>\n      <td>10</td>\n      <td>7</td>\n      <td>3.000000</td>\n      <td>-1</td>\n      <td>2</td>\n      <td>0.625000</td>\n      <td>-1</td>\n      <td>40</td>\n      <td>48</td>\n      <td>30</td>\n      <td>0.000000</td>\n    </tr>\n    <tr>\n      <th>2</th>\n      <td>0.300000</td>\n      <td>2</td>\n      <td>12</td>\n      <td>9</td>\n      <td>1.666667</td>\n      <td>-1</td>\n      <td>3</td>\n      <td>0.500000</td>\n      <td>-1</td>\n      <td>15</td>\n      <td>40</td>\n      <td>20</td>\n      <td>0.000000</td>\n    </tr>\n    <tr>\n      <th>3</th>\n      <td>0.222222</td>\n      <td>15</td>\n      <td>10</td>\n      <td>9</td>\n      <td>2.700000</td>\n      <td>-1</td>\n      <td>3</td>\n      <td>0.600000</td>\n      <td>-1</td>\n      <td>31</td>\n      <td>45</td>\n      <td>27</td>\n      <td>0.000000</td>\n    </tr>\n    <tr>\n      <th>4</th>\n      <td>0.481481</td>\n      <td>5</td>\n      <td>13</td>\n      <td>7</td>\n      <td>0.461538</td>\n      <td>-1</td>\n      <td>3</td>\n      <td>0.222222</td>\n      <td>-1</td>\n      <td>20</td>\n      <td>27</td>\n      <td>6</td>\n      <td>0.000000</td>\n    </tr>\n    <tr>\n      <th>5</th>\n      <td>0.411765</td>\n      <td>0</td>\n      <td>14</td>\n      <td>8</td>\n      <td>0.928571</td>\n      <td>0</td>\n      <td>2</td>\n      <td>0.382353</td>\n      <td>-1</td>\n      <td>24</td>\n      <td>34</td>\n      <td>13</td>\n      <td>0.000000</td>\n    </tr>\n    <tr>\n      <th>6</th>\n      <td>0.162791</td>\n      <td>2</td>\n      <td>14</td>\n      <td>8</td>\n      <td>4.571429</td>\n      <td>-1</td>\n      <td>3</td>\n      <td>0.744186</td>\n      <td>-1</td>\n      <td>73</td>\n      <td>86</td>\n      <td>64</td>\n      <td>0.000000</td>\n    </tr>\n    <tr>\n      <th>7</th>\n      <td>0.255814</td>\n      <td>2</td>\n      <td>11</td>\n      <td>8</td>\n      <td>2.181818</td>\n      <td>-1</td>\n      <td>2</td>\n      <td>0.558140</td>\n      <td>-1</td>\n      <td>34</td>\n      <td>43</td>\n      <td>24</td>\n      <td>0.000000</td>\n    </tr>\n    <tr>\n      <th>8</th>\n      <td>0.211268</td>\n      <td>2</td>\n      <td>15</td>\n      <td>12</td>\n      <td>0.400000</td>\n      <td>-1</td>\n      <td>3</td>\n      <td>0.084507</td>\n      <td>33</td>\n      <td>56</td>\n      <td>71</td>\n      <td>6</td>\n      <td>2.733333</td>\n    </tr>\n    <tr>\n      <th>9</th>\n      <td>0.241935</td>\n      <td>2</td>\n      <td>15</td>\n      <td>7</td>\n      <td>2.600000</td>\n      <td>-1</td>\n      <td>3</td>\n      <td>0.629032</td>\n      <td>-1</td>\n      <td>28</td>\n      <td>62</td>\n      <td>39</td>\n      <td>0.000000</td>\n    </tr>\n    <tr>\n      <th>10</th>\n      <td>0.312500</td>\n      <td>2</td>\n      <td>20</td>\n      <td>11</td>\n      <td>0.500000</td>\n      <td>-1</td>\n      <td>3</td>\n      <td>0.156250</td>\n      <td>17</td>\n      <td>46</td>\n      <td>64</td>\n      <td>10</td>\n      <td>1.300000</td>\n    </tr>\n    <tr>\n      <th>11</th>\n      <td>0.271028</td>\n      <td>2</td>\n      <td>29</td>\n      <td>15</td>\n      <td>0.620690</td>\n      <td>-1</td>\n      <td>3</td>\n      <td>0.168224</td>\n      <td>39</td>\n      <td>83</td>\n      <td>107</td>\n      <td>18</td>\n      <td>1.793103</td>\n    </tr>\n  </tbody>\n</table>\n</div>"
     },
     "execution_count": 3,
     "metadata": {},
     "output_type": "execute_result"
    }
   ],
   "source": [
    "#Make predictions\n",
    "urls = [\n",
    "    \"https://www.example.com/path/to/page?param=value\",\n",
    "    \"https://github.com/JR-Camacho/security_processes\",\n",
    "    \"https://www.mdpi.com/2079-9292/11/7/1090\",\n",
    "    \"https://www.unb.ca/cic/datasets/url-2016.html\",\n",
    "    \"https://www.utesa.edu/home/\",\n",
    "    \"http://example.com:80/path/to/page\",\n",
    "    \"https://www.kaggle.com/code/eslamfouad/statistical-inference-of-malicious-urls-dataset\",\n",
    "    \"https://mp3raid.com/music/krizz_kaliko.html\",\n",
    "    \"https://www.youtube.com/watch?v=PVjiKRfKpPI&list=RDEgBJmlPo8Xw&index=27\",\n",
    "    \"https://chat.openai.com/c/b4e1f400-58a0-444b-811e-aa065832809b\",\n",
    "    \"http://www.malware-site.com/login.php?user=admin&password=123456\",\n",
    "    \"http://www.evilsite-secure-login.com/banking/login.php?user=admin&password=123456&redirect=malware-site.com\"\n",
    "]\n",
    "\n",
    "df = get_url_phishing_features(urls)\n",
    "df"
   ],
   "metadata": {
    "collapsed": false,
    "ExecuteTime": {
     "end_time": "2023-07-17T16:30:48.637711Z",
     "start_time": "2023-07-17T16:30:48.599828Z"
    }
   }
  },
  {
   "cell_type": "code",
   "execution_count": 4,
   "outputs": [],
   "source": [
    "#Import model\n",
    "MODEL_PATH = '../../../../../../models/malicius_url/phishing/decision_tree/phishing_url_detection.pkl'\n",
    "MODEL_OPTIMIZED_PATH = '../../../../../../models/malicius_url/phishing/decision_tree/phishing_url_detection_optimized.pkl'\n",
    "\n",
    "model = joblib.load(MODEL_PATH)\n",
    "model_optimized = joblib.load(MODEL_OPTIMIZED_PATH)"
   ],
   "metadata": {
    "collapsed": false,
    "ExecuteTime": {
     "end_time": "2023-07-17T16:30:51.108555Z",
     "start_time": "2023-07-17T16:30:49.604405Z"
    }
   }
  },
  {
   "cell_type": "code",
   "execution_count": 5,
   "outputs": [
    {
     "name": "stderr",
     "output_type": "stream",
     "text": [
      "/Users/josecamacho/Desktop/Projects/security/ml/venv/lib/python3.11/site-packages/sklearn/base.py:432: UserWarning: X has feature names, but DecisionTreeClassifier was fitted without feature names\n",
      "  warnings.warn(\n"
     ]
    },
    {
     "data": {
      "text/plain": "array([1, 1, 1, 0, 1, 1, 1, 1, 1, 1, 0, 0])"
     },
     "execution_count": 5,
     "metadata": {},
     "output_type": "execute_result"
    }
   ],
   "source": [
    "y_pred = model.predict(df)\n",
    "y_pred"
   ],
   "metadata": {
    "collapsed": false,
    "ExecuteTime": {
     "end_time": "2023-07-17T16:30:51.134900Z",
     "start_time": "2023-07-17T16:30:51.111481Z"
    }
   }
  },
  {
   "cell_type": "code",
   "execution_count": 6,
   "outputs": [
    {
     "name": "stderr",
     "output_type": "stream",
     "text": [
      "/Users/josecamacho/Desktop/Projects/security/ml/venv/lib/python3.11/site-packages/sklearn/base.py:432: UserWarning: X has feature names, but DecisionTreeClassifier was fitted without feature names\n",
      "  warnings.warn(\n"
     ]
    },
    {
     "data": {
      "text/plain": "array([1, 1, 1, 0, 1, 1, 1, 1, 1, 1, 0, 0])"
     },
     "execution_count": 6,
     "metadata": {},
     "output_type": "execute_result"
    }
   ],
   "source": [
    "y_pred = model_optimized.predict(df)\n",
    "y_pred"
   ],
   "metadata": {
    "collapsed": false,
    "ExecuteTime": {
     "end_time": "2023-07-17T16:30:52.429368Z",
     "start_time": "2023-07-17T16:30:52.406865Z"
    }
   }
  },
  {
   "cell_type": "code",
   "execution_count": null,
   "outputs": [],
   "source": [],
   "metadata": {
    "collapsed": false
   }
  }
 ],
 "metadata": {
  "kernelspec": {
   "display_name": "Python 3",
   "language": "python",
   "name": "python3"
  },
  "language_info": {
   "codemirror_mode": {
    "name": "ipython",
    "version": 2
   },
   "file_extension": ".py",
   "mimetype": "text/x-python",
   "name": "python",
   "nbconvert_exporter": "python",
   "pygments_lexer": "ipython2",
   "version": "2.7.6"
  }
 },
 "nbformat": 4,
 "nbformat_minor": 0
}
