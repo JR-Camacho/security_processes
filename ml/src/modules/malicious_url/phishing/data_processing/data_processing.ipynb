{
 "cells": [
  {
   "cell_type": "markdown",
   "source": [
    "Processing the data"
   ],
   "metadata": {
    "collapsed": false
   }
  },
  {
   "cell_type": "code",
   "execution_count": 2,
   "outputs": [],
   "source": [
    "from src.utils.split_data import train_val_test_split\n",
    "\n",
    "from sklearn.ensemble import RandomForestClassifier\n",
    "from sklearn.impute import SimpleImputer\n",
    "from sklearn.preprocessing import RobustScaler\n",
    "from sklearn.metrics import f1_score\n",
    "import pandas as pd\n",
    "import numpy as np"
   ],
   "metadata": {
    "collapsed": false,
    "ExecuteTime": {
     "end_time": "2023-07-17T15:33:06.966201Z",
     "start_time": "2023-07-17T15:33:04.365013Z"
    }
   }
  },
  {
   "cell_type": "code",
   "execution_count": 3,
   "outputs": [],
   "source": [
    "#Load the data from the csv file\n",
    "raw_df = pd.read_csv('../../../../../data/raw/urls/Phishing.csv')"
   ],
   "metadata": {
    "collapsed": false,
    "ExecuteTime": {
     "end_time": "2023-07-17T15:33:07.191068Z",
     "start_time": "2023-07-17T15:33:06.971225Z"
    }
   }
  },
  {
   "cell_type": "code",
   "execution_count": 4,
   "outputs": [],
   "source": [
    "#Split the data into train, validation and test\n",
    "train_set, val_set, test_set = train_val_test_split(raw_df)"
   ],
   "metadata": {
    "collapsed": false,
    "ExecuteTime": {
     "end_time": "2023-07-17T15:33:07.219575Z",
     "start_time": "2023-07-17T15:33:07.192874Z"
    }
   }
  },
  {
   "cell_type": "code",
   "execution_count": 5,
   "outputs": [],
   "source": [
    "#Split the inputs and targets\n",
    "X_train = train_set.drop(\"URL_Type_obf_Type\", axis=1)\n",
    "y_train = train_set[\"URL_Type_obf_Type\"].copy()\n",
    "\n",
    "X_val = val_set.drop(\"URL_Type_obf_Type\", axis=1)\n",
    "y_val = val_set[\"URL_Type_obf_Type\"].copy()\n",
    "\n",
    "X_test = test_set.drop(\"URL_Type_obf_Type\", axis=1)\n",
    "y_test = test_set[\"URL_Type_obf_Type\"].copy()"
   ],
   "metadata": {
    "collapsed": false,
    "ExecuteTime": {
     "end_time": "2023-07-17T15:33:07.234766Z",
     "start_time": "2023-07-17T15:33:07.227703Z"
    }
   }
  },
  {
   "cell_type": "code",
   "execution_count": 6,
   "outputs": [],
   "source": [
    "# Drop the feacture with infinite values\n",
    "X_train = X_train.drop(\"argPathRatio\", axis=1)\n",
    "X_val = X_val.drop(\"argPathRatio\", axis=1)\n",
    "X_test = X_test.drop(\"argPathRatio\", axis=1)"
   ],
   "metadata": {
    "collapsed": false,
    "ExecuteTime": {
     "end_time": "2023-07-17T15:33:07.263862Z",
     "start_time": "2023-07-17T15:33:07.244183Z"
    }
   }
  },
  {
   "cell_type": "code",
   "execution_count": 7,
   "outputs": [],
   "source": [
    "#Null values are padded\n",
    "imputer = SimpleImputer(strategy='median')\n",
    "X_train_padded = imputer.fit_transform(X_train)\n",
    "X_val_padded = imputer.fit_transform(X_val)\n",
    "X_test_padded = imputer.fit_transform(X_test)"
   ],
   "metadata": {
    "collapsed": false,
    "ExecuteTime": {
     "end_time": "2023-07-17T15:33:07.407078Z",
     "start_time": "2023-07-17T15:33:07.264220Z"
    }
   }
  },
  {
   "cell_type": "code",
   "execution_count": 8,
   "outputs": [],
   "source": [
    "# Transform the result to a Pandas DataFrame\n",
    "X_train_padded = pd.DataFrame(X_train_padded, columns=X_train.columns, index=y_train.index)\n",
    "X_val_padded = pd.DataFrame(X_val_padded, columns=X_val.columns, index=y_val.index)\n",
    "X_test_padded = pd.DataFrame(X_test_padded, columns=X_test.columns, index=y_test.index)"
   ],
   "metadata": {
    "collapsed": false,
    "ExecuteTime": {
     "end_time": "2023-07-17T15:33:07.465488Z",
     "start_time": "2023-07-17T15:33:07.451526Z"
    }
   }
  },
  {
   "cell_type": "code",
   "execution_count": 9,
   "outputs": [
    {
     "data": {
      "text/plain": "RandomForestClassifier(n_estimators=50, n_jobs=-1, random_state=42)",
      "text/html": "<style>#sk-container-id-1 {color: black;background-color: white;}#sk-container-id-1 pre{padding: 0;}#sk-container-id-1 div.sk-toggleable {background-color: white;}#sk-container-id-1 label.sk-toggleable__label {cursor: pointer;display: block;width: 100%;margin-bottom: 0;padding: 0.3em;box-sizing: border-box;text-align: center;}#sk-container-id-1 label.sk-toggleable__label-arrow:before {content: \"▸\";float: left;margin-right: 0.25em;color: #696969;}#sk-container-id-1 label.sk-toggleable__label-arrow:hover:before {color: black;}#sk-container-id-1 div.sk-estimator:hover label.sk-toggleable__label-arrow:before {color: black;}#sk-container-id-1 div.sk-toggleable__content {max-height: 0;max-width: 0;overflow: hidden;text-align: left;background-color: #f0f8ff;}#sk-container-id-1 div.sk-toggleable__content pre {margin: 0.2em;color: black;border-radius: 0.25em;background-color: #f0f8ff;}#sk-container-id-1 input.sk-toggleable__control:checked~div.sk-toggleable__content {max-height: 200px;max-width: 100%;overflow: auto;}#sk-container-id-1 input.sk-toggleable__control:checked~label.sk-toggleable__label-arrow:before {content: \"▾\";}#sk-container-id-1 div.sk-estimator input.sk-toggleable__control:checked~label.sk-toggleable__label {background-color: #d4ebff;}#sk-container-id-1 div.sk-label input.sk-toggleable__control:checked~label.sk-toggleable__label {background-color: #d4ebff;}#sk-container-id-1 input.sk-hidden--visually {border: 0;clip: rect(1px 1px 1px 1px);clip: rect(1px, 1px, 1px, 1px);height: 1px;margin: -1px;overflow: hidden;padding: 0;position: absolute;width: 1px;}#sk-container-id-1 div.sk-estimator {font-family: monospace;background-color: #f0f8ff;border: 1px dotted black;border-radius: 0.25em;box-sizing: border-box;margin-bottom: 0.5em;}#sk-container-id-1 div.sk-estimator:hover {background-color: #d4ebff;}#sk-container-id-1 div.sk-parallel-item::after {content: \"\";width: 100%;border-bottom: 1px solid gray;flex-grow: 1;}#sk-container-id-1 div.sk-label:hover label.sk-toggleable__label {background-color: #d4ebff;}#sk-container-id-1 div.sk-serial::before {content: \"\";position: absolute;border-left: 1px solid gray;box-sizing: border-box;top: 0;bottom: 0;left: 50%;z-index: 0;}#sk-container-id-1 div.sk-serial {display: flex;flex-direction: column;align-items: center;background-color: white;padding-right: 0.2em;padding-left: 0.2em;position: relative;}#sk-container-id-1 div.sk-item {position: relative;z-index: 1;}#sk-container-id-1 div.sk-parallel {display: flex;align-items: stretch;justify-content: center;background-color: white;position: relative;}#sk-container-id-1 div.sk-item::before, #sk-container-id-1 div.sk-parallel-item::before {content: \"\";position: absolute;border-left: 1px solid gray;box-sizing: border-box;top: 0;bottom: 0;left: 50%;z-index: -1;}#sk-container-id-1 div.sk-parallel-item {display: flex;flex-direction: column;z-index: 1;position: relative;background-color: white;}#sk-container-id-1 div.sk-parallel-item:first-child::after {align-self: flex-end;width: 50%;}#sk-container-id-1 div.sk-parallel-item:last-child::after {align-self: flex-start;width: 50%;}#sk-container-id-1 div.sk-parallel-item:only-child::after {width: 0;}#sk-container-id-1 div.sk-dashed-wrapped {border: 1px dashed gray;margin: 0 0.4em 0.5em 0.4em;box-sizing: border-box;padding-bottom: 0.4em;background-color: white;}#sk-container-id-1 div.sk-label label {font-family: monospace;font-weight: bold;display: inline-block;line-height: 1.2em;}#sk-container-id-1 div.sk-label-container {text-align: center;}#sk-container-id-1 div.sk-container {/* jupyter's `normalize.less` sets `[hidden] { display: none; }` but bootstrap.min.css set `[hidden] { display: none !important; }` so we also need the `!important` here to be able to override the default hidden behavior on the sphinx rendered scikit-learn.org. See: https://github.com/scikit-learn/scikit-learn/issues/21755 */display: inline-block !important;position: relative;}#sk-container-id-1 div.sk-text-repr-fallback {display: none;}</style><div id=\"sk-container-id-1\" class=\"sk-top-container\"><div class=\"sk-text-repr-fallback\"><pre>RandomForestClassifier(n_estimators=50, n_jobs=-1, random_state=42)</pre><b>In a Jupyter environment, please rerun this cell to show the HTML representation or trust the notebook. <br />On GitHub, the HTML representation is unable to render, please try loading this page with nbviewer.org.</b></div><div class=\"sk-container\" hidden><div class=\"sk-item\"><div class=\"sk-estimator sk-toggleable\"><input class=\"sk-toggleable__control sk-hidden--visually\" id=\"sk-estimator-id-1\" type=\"checkbox\" checked><label for=\"sk-estimator-id-1\" class=\"sk-toggleable__label sk-toggleable__label-arrow\">RandomForestClassifier</label><div class=\"sk-toggleable__content\"><pre>RandomForestClassifier(n_estimators=50, n_jobs=-1, random_state=42)</pre></div></div></div></div></div>"
     },
     "execution_count": 9,
     "metadata": {},
     "output_type": "execute_result"
    }
   ],
   "source": [
    "#A random forest is trained for the selection of characteristics\n",
    "clf_rnd = RandomForestClassifier(n_estimators=50, random_state=42, n_jobs=-1)\n",
    "clf_rnd.fit(X_train_padded, y_train)"
   ],
   "metadata": {
    "collapsed": false,
    "ExecuteTime": {
     "end_time": "2023-07-17T15:33:08.023166Z",
     "start_time": "2023-07-17T15:33:07.461787Z"
    }
   }
  },
  {
   "cell_type": "code",
   "execution_count": 10,
   "outputs": [
    {
     "name": "stdout",
     "output_type": "stream",
     "text": [
      "F1 score train: 1.0\n",
      "F1 score val: 0.9811570247933884\n",
      "F1 score test: 0.9824677472709228\n"
     ]
    }
   ],
   "source": [
    "# Evaluate model\n",
    "y_train_pred = clf_rnd.predict(X_train_padded)\n",
    "y_val_pred = clf_rnd.predict(X_val_padded)\n",
    "y_test_pred = clf_rnd.predict(X_test_padded)\n",
    "\n",
    "print(\"F1 score train:\", f1_score(y_train_pred, y_train, pos_label='phishing'))\n",
    "print(\"F1 score val:\", f1_score(y_val_pred, y_val, pos_label='phishing'))\n",
    "print(\"F1 score test:\", f1_score(y_test_pred, y_test, pos_label='phishing'))"
   ],
   "metadata": {
    "collapsed": false,
    "ExecuteTime": {
     "end_time": "2023-07-17T15:33:08.215331Z",
     "start_time": "2023-07-17T15:33:08.020037Z"
    }
   }
  },
  {
   "cell_type": "code",
   "execution_count": 11,
   "outputs": [
    {
     "data": {
      "text/plain": "domainUrlRatio       0.102543\ntld                  0.076584\ndomainlength         0.067253\nSymbolCount_URL      0.064566\npathDomainRatio      0.055492\n                       ...   \nldl_domain           0.000132\ndld_domain           0.000022\nargPathRatio         0.000000\nexecutable           0.000000\nNumberofDotsinURL    0.000000\nLength: 78, dtype: float64"
     },
     "execution_count": 11,
     "metadata": {},
     "output_type": "execute_result"
    }
   ],
   "source": [
    "#Get the most important feactures\n",
    "feature_importances = {name: score for name, score in zip(list(raw_df), clf_rnd.feature_importances_)}\n",
    "feature_importances_sorted = pd.Series(feature_importances).sort_values(ascending=False)\n",
    "feature_importances_sorted"
   ],
   "metadata": {
    "collapsed": false,
    "ExecuteTime": {
     "end_time": "2023-07-17T15:33:08.270116Z",
     "start_time": "2023-07-17T15:33:08.217226Z"
    }
   }
  },
  {
   "cell_type": "code",
   "execution_count": 12,
   "outputs": [
    {
     "data": {
      "text/plain": "['domainUrlRatio',\n 'tld',\n 'domainlength',\n 'SymbolCount_URL',\n 'pathDomainRatio',\n 'isPortEighty',\n 'domain_token_count',\n 'pathurlRatio',\n 'Query_LetterCount',\n 'subDirLen',\n 'URL_Letter_Count',\n 'urlLen',\n 'pathLength',\n 'argDomanRatio']"
     },
     "execution_count": 12,
     "metadata": {},
     "output_type": "execute_result"
    }
   ],
   "source": [
    "#The most 15 important feacture\n",
    "columns = list(feature_importances_sorted.head(14).index)\n",
    "columns"
   ],
   "metadata": {
    "collapsed": false,
    "ExecuteTime": {
     "end_time": "2023-07-17T15:33:08.405743Z",
     "start_time": "2023-07-17T15:33:08.338395Z"
    }
   }
  },
  {
   "cell_type": "code",
   "execution_count": 13,
   "outputs": [],
   "source": [
    "#Reduce dataset to the most important feactures\n",
    "X_train_reduced = X_train_padded[columns].copy()\n",
    "X_val_reduced = X_val_padded[columns].copy()\n",
    "X_test_reduced = X_test_padded[columns].copy()\n",
    "\n",
    "column_to_exclude = 'subDirLen'\n",
    "\n",
    "X_train_reduced = X_train_reduced.drop(column_to_exclude, axis=1)\n",
    "X_val_reduced = X_val_reduced.drop(column_to_exclude, axis=1)\n",
    "X_test_reduced = X_test_reduced.drop(column_to_exclude, axis=1)"
   ],
   "metadata": {
    "collapsed": false,
    "ExecuteTime": {
     "end_time": "2023-07-17T15:33:09.279264Z",
     "start_time": "2023-07-17T15:33:09.271348Z"
    }
   }
  },
  {
   "cell_type": "code",
   "execution_count": 14,
   "outputs": [
    {
     "data": {
      "text/plain": "count    15367.000000\nmean         0.696129\nstd          1.692045\nmin          0.000000\n25%          0.111111\n50%          0.153846\n75%          0.200000\nmax         20.461538\nName: argDomanRatio, dtype: float64"
     },
     "execution_count": 14,
     "metadata": {},
     "output_type": "execute_result"
    }
   ],
   "source": [
    "# X_test_reduced['ISIpAddressInDomainName'].value_counts()\n",
    "# raw_df['ISIpAddressInDomainName'].value_counts()\n",
    "# raw_df['argDomanRatio'].value_counts()\n",
    "raw_df['argDomanRatio'].describe()\n",
    "# X_test_reduced['subDirLen'].describe()\n",
    "# raw_df.describe()\n",
    "# raw_df['ISIpAddressInDomainName'][raw_df['URL_Type_obf_Type'] == 'benign'].value_counts()\n",
    "# X_test_reduced.head()\n",
    "#len(raw_df)\n",
    "# raw_df"
   ],
   "metadata": {
    "collapsed": false,
    "ExecuteTime": {
     "end_time": "2023-07-17T15:33:09.820036Z",
     "start_time": "2023-07-17T15:33:09.799421Z"
    }
   }
  },
  {
   "cell_type": "code",
   "execution_count": 15,
   "outputs": [],
   "source": [
    "# The dataset is scaled\n",
    "scaler = RobustScaler()\n",
    "X_train_reduced_scaled = scaler.fit_transform(X_train_reduced.copy())\n",
    "X_val_reduced_scaled = scaler.fit_transform(X_val_reduced.copy())\n",
    "X_test_reduced_scaled = scaler.fit_transform(X_test_reduced.copy())\n",
    "\n",
    "# Transform the result to a Pandas DataFrame\n",
    "X_train_reduced_prep = pd.DataFrame(X_train_reduced_scaled, columns=X_train_reduced.columns, index=y_train.index)\n",
    "X_val_reduced_prep = pd.DataFrame(X_val_reduced_scaled, columns=X_val_reduced.columns, index=y_val.index)\n",
    "X_test_reduced_prep = pd.DataFrame(X_test_reduced_scaled, columns=X_test_reduced.columns, index=y_test.index)"
   ],
   "metadata": {
    "collapsed": false,
    "ExecuteTime": {
     "end_time": "2023-07-17T15:33:11.166598Z",
     "start_time": "2023-07-17T15:33:11.132536Z"
    }
   }
  },
  {
   "cell_type": "code",
   "execution_count": 16,
   "outputs": [],
   "source": [
    "#Transform the targets to numerics values\n",
    "y_train_num = y_train.map({'phishing': 1, 'benign': 0})\n",
    "y_val_num = y_val.map({'phishing': 1, 'benign': 0})\n",
    "y_test_num = y_test.map({'phishing': 1, 'benign': 0})"
   ],
   "metadata": {
    "collapsed": false,
    "ExecuteTime": {
     "end_time": "2023-07-17T15:33:13.188141Z",
     "start_time": "2023-07-17T15:33:13.181242Z"
    }
   }
  },
  {
   "cell_type": "code",
   "execution_count": 17,
   "outputs": [],
   "source": [
    "#Save the data\n",
    "np.savez('../../../../../data/processed/urls/phishing/scaled_train_data', inputs=X_train_reduced_prep, targets=y_train_num)\n",
    "np.savez('../../../../../data/processed/urls/phishing/scaled_validation_data', inputs=X_val_reduced_prep, targets=y_val_num)\n",
    "np.savez('../../../../../data/processed/urls/phishing/scaled_test_data', inputs=X_test_reduced_prep, targets=y_test_num)\n",
    "\n",
    "np.savez('../../../../../data/processed/urls/phishing/train_data', inputs=X_train_reduced, targets=y_train_num)\n",
    "np.savez('../../../../../data/processed/urls/phishing/validation_data', inputs=X_val_reduced, targets=y_val_num)\n",
    "np.savez('../../../../../data/processed/urls/phishing/test_data', inputs=X_test_reduced, targets=y_test_num)"
   ],
   "metadata": {
    "collapsed": false,
    "ExecuteTime": {
     "end_time": "2023-07-17T15:33:14.987831Z",
     "start_time": "2023-07-17T15:33:14.951224Z"
    }
   }
  },
  {
   "cell_type": "code",
   "execution_count": null,
   "outputs": [],
   "source": [],
   "metadata": {
    "collapsed": false
   }
  }
 ],
 "metadata": {
  "kernelspec": {
   "display_name": "Python 3",
   "language": "python",
   "name": "python3"
  },
  "language_info": {
   "codemirror_mode": {
    "name": "ipython",
    "version": 2
   },
   "file_extension": ".py",
   "mimetype": "text/x-python",
   "name": "python",
   "nbconvert_exporter": "python",
   "pygments_lexer": "ipython2",
   "version": "2.7.6"
  }
 },
 "nbformat": 4,
 "nbformat_minor": 0
}
