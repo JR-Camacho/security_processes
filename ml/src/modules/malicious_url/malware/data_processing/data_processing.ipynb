{
 "cells": [
  {
   "cell_type": "markdown",
   "source": [
    "Processing the data"
   ],
   "metadata": {
    "collapsed": false
   }
  },
  {
   "cell_type": "code",
   "execution_count": 2,
   "outputs": [],
   "source": [
    "from src.utils.split_data import train_val_test_split\n",
    "\n",
    "from sklearn.ensemble import RandomForestClassifier\n",
    "from sklearn.impute import SimpleImputer\n",
    "from sklearn.preprocessing import RobustScaler\n",
    "from sklearn.metrics import f1_score\n",
    "import pandas as pd\n",
    "import numpy as np"
   ],
   "metadata": {
    "collapsed": false,
    "ExecuteTime": {
     "end_time": "2023-07-17T15:28:12.184344Z",
     "start_time": "2023-07-17T15:28:08.414367Z"
    }
   }
  },
  {
   "cell_type": "code",
   "execution_count": 3,
   "outputs": [],
   "source": [
    "#Load the data from the csv file\n",
    "raw_df = pd.read_csv('../../../../../data/raw/urls/Malware.csv')"
   ],
   "metadata": {
    "collapsed": false,
    "ExecuteTime": {
     "end_time": "2023-07-17T15:28:12.424277Z",
     "start_time": "2023-07-17T15:28:12.187949Z"
    }
   }
  },
  {
   "cell_type": "code",
   "execution_count": 4,
   "outputs": [],
   "source": [
    "#Split the data into train, validation and test\n",
    "train_set, val_set, test_set = train_val_test_split(raw_df)"
   ],
   "metadata": {
    "collapsed": false,
    "ExecuteTime": {
     "end_time": "2023-07-17T15:28:12.466991Z",
     "start_time": "2023-07-17T15:28:12.431418Z"
    }
   }
  },
  {
   "cell_type": "code",
   "execution_count": 5,
   "outputs": [],
   "source": [
    "#Split the inputs and targets\n",
    "X_train = train_set.drop(\"URL_Type_obf_Type\", axis=1)\n",
    "y_train = train_set[\"URL_Type_obf_Type\"].copy()\n",
    "\n",
    "X_val = val_set.drop(\"URL_Type_obf_Type\", axis=1)\n",
    "y_val = val_set[\"URL_Type_obf_Type\"].copy()\n",
    "\n",
    "X_test = test_set.drop(\"URL_Type_obf_Type\", axis=1)\n",
    "y_test = test_set[\"URL_Type_obf_Type\"].copy()"
   ],
   "metadata": {
    "collapsed": false,
    "ExecuteTime": {
     "end_time": "2023-07-17T15:28:12.477514Z",
     "start_time": "2023-07-17T15:28:12.471496Z"
    }
   }
  },
  {
   "cell_type": "code",
   "execution_count": 6,
   "outputs": [],
   "source": [
    "# Drop the feacture with infinite values\n",
    "X_train = X_train.drop(\"argPathRatio\", axis=1)\n",
    "X_val = X_val.drop(\"argPathRatio\", axis=1)\n",
    "X_test = X_test.drop(\"argPathRatio\", axis=1)"
   ],
   "metadata": {
    "collapsed": false,
    "ExecuteTime": {
     "end_time": "2023-07-17T15:28:12.506607Z",
     "start_time": "2023-07-17T15:28:12.479356Z"
    }
   }
  },
  {
   "cell_type": "code",
   "execution_count": 7,
   "outputs": [],
   "source": [
    "#Null values are padded\n",
    "imputer = SimpleImputer(strategy='median')\n",
    "X_train_padded = imputer.fit_transform(X_train)\n",
    "X_val_padded = imputer.fit_transform(X_val)\n",
    "X_test_padded = imputer.fit_transform(X_test)"
   ],
   "metadata": {
    "collapsed": false,
    "ExecuteTime": {
     "end_time": "2023-07-17T15:28:12.736485Z",
     "start_time": "2023-07-17T15:28:12.500927Z"
    }
   }
  },
  {
   "cell_type": "code",
   "execution_count": 8,
   "outputs": [],
   "source": [
    "# Transform the result to a Pandas DataFrame\n",
    "X_train_padded = pd.DataFrame(X_train_padded, columns=X_train.columns, index=y_train.index)\n",
    "X_val_padded = pd.DataFrame(X_val_padded, columns=X_val.columns, index=y_val.index)\n",
    "X_test_padded = pd.DataFrame(X_test_padded, columns=X_test.columns, index=y_test.index)"
   ],
   "metadata": {
    "collapsed": false,
    "ExecuteTime": {
     "end_time": "2023-07-17T15:28:12.754290Z",
     "start_time": "2023-07-17T15:28:12.741731Z"
    }
   }
  },
  {
   "cell_type": "code",
   "execution_count": 9,
   "outputs": [
    {
     "data": {
      "text/plain": "RandomForestClassifier(n_estimators=50, n_jobs=-1, random_state=42)",
      "text/html": "<style>#sk-container-id-1 {color: black;background-color: white;}#sk-container-id-1 pre{padding: 0;}#sk-container-id-1 div.sk-toggleable {background-color: white;}#sk-container-id-1 label.sk-toggleable__label {cursor: pointer;display: block;width: 100%;margin-bottom: 0;padding: 0.3em;box-sizing: border-box;text-align: center;}#sk-container-id-1 label.sk-toggleable__label-arrow:before {content: \"▸\";float: left;margin-right: 0.25em;color: #696969;}#sk-container-id-1 label.sk-toggleable__label-arrow:hover:before {color: black;}#sk-container-id-1 div.sk-estimator:hover label.sk-toggleable__label-arrow:before {color: black;}#sk-container-id-1 div.sk-toggleable__content {max-height: 0;max-width: 0;overflow: hidden;text-align: left;background-color: #f0f8ff;}#sk-container-id-1 div.sk-toggleable__content pre {margin: 0.2em;color: black;border-radius: 0.25em;background-color: #f0f8ff;}#sk-container-id-1 input.sk-toggleable__control:checked~div.sk-toggleable__content {max-height: 200px;max-width: 100%;overflow: auto;}#sk-container-id-1 input.sk-toggleable__control:checked~label.sk-toggleable__label-arrow:before {content: \"▾\";}#sk-container-id-1 div.sk-estimator input.sk-toggleable__control:checked~label.sk-toggleable__label {background-color: #d4ebff;}#sk-container-id-1 div.sk-label input.sk-toggleable__control:checked~label.sk-toggleable__label {background-color: #d4ebff;}#sk-container-id-1 input.sk-hidden--visually {border: 0;clip: rect(1px 1px 1px 1px);clip: rect(1px, 1px, 1px, 1px);height: 1px;margin: -1px;overflow: hidden;padding: 0;position: absolute;width: 1px;}#sk-container-id-1 div.sk-estimator {font-family: monospace;background-color: #f0f8ff;border: 1px dotted black;border-radius: 0.25em;box-sizing: border-box;margin-bottom: 0.5em;}#sk-container-id-1 div.sk-estimator:hover {background-color: #d4ebff;}#sk-container-id-1 div.sk-parallel-item::after {content: \"\";width: 100%;border-bottom: 1px solid gray;flex-grow: 1;}#sk-container-id-1 div.sk-label:hover label.sk-toggleable__label {background-color: #d4ebff;}#sk-container-id-1 div.sk-serial::before {content: \"\";position: absolute;border-left: 1px solid gray;box-sizing: border-box;top: 0;bottom: 0;left: 50%;z-index: 0;}#sk-container-id-1 div.sk-serial {display: flex;flex-direction: column;align-items: center;background-color: white;padding-right: 0.2em;padding-left: 0.2em;position: relative;}#sk-container-id-1 div.sk-item {position: relative;z-index: 1;}#sk-container-id-1 div.sk-parallel {display: flex;align-items: stretch;justify-content: center;background-color: white;position: relative;}#sk-container-id-1 div.sk-item::before, #sk-container-id-1 div.sk-parallel-item::before {content: \"\";position: absolute;border-left: 1px solid gray;box-sizing: border-box;top: 0;bottom: 0;left: 50%;z-index: -1;}#sk-container-id-1 div.sk-parallel-item {display: flex;flex-direction: column;z-index: 1;position: relative;background-color: white;}#sk-container-id-1 div.sk-parallel-item:first-child::after {align-self: flex-end;width: 50%;}#sk-container-id-1 div.sk-parallel-item:last-child::after {align-self: flex-start;width: 50%;}#sk-container-id-1 div.sk-parallel-item:only-child::after {width: 0;}#sk-container-id-1 div.sk-dashed-wrapped {border: 1px dashed gray;margin: 0 0.4em 0.5em 0.4em;box-sizing: border-box;padding-bottom: 0.4em;background-color: white;}#sk-container-id-1 div.sk-label label {font-family: monospace;font-weight: bold;display: inline-block;line-height: 1.2em;}#sk-container-id-1 div.sk-label-container {text-align: center;}#sk-container-id-1 div.sk-container {/* jupyter's `normalize.less` sets `[hidden] { display: none; }` but bootstrap.min.css set `[hidden] { display: none !important; }` so we also need the `!important` here to be able to override the default hidden behavior on the sphinx rendered scikit-learn.org. See: https://github.com/scikit-learn/scikit-learn/issues/21755 */display: inline-block !important;position: relative;}#sk-container-id-1 div.sk-text-repr-fallback {display: none;}</style><div id=\"sk-container-id-1\" class=\"sk-top-container\"><div class=\"sk-text-repr-fallback\"><pre>RandomForestClassifier(n_estimators=50, n_jobs=-1, random_state=42)</pre><b>In a Jupyter environment, please rerun this cell to show the HTML representation or trust the notebook. <br />On GitHub, the HTML representation is unable to render, please try loading this page with nbviewer.org.</b></div><div class=\"sk-container\" hidden><div class=\"sk-item\"><div class=\"sk-estimator sk-toggleable\"><input class=\"sk-toggleable__control sk-hidden--visually\" id=\"sk-estimator-id-1\" type=\"checkbox\" checked><label for=\"sk-estimator-id-1\" class=\"sk-toggleable__label sk-toggleable__label-arrow\">RandomForestClassifier</label><div class=\"sk-toggleable__content\"><pre>RandomForestClassifier(n_estimators=50, n_jobs=-1, random_state=42)</pre></div></div></div></div></div>"
     },
     "execution_count": 9,
     "metadata": {},
     "output_type": "execute_result"
    }
   ],
   "source": [
    "#A random forest is trained for the selection of characteristics\n",
    "clf_rnd = RandomForestClassifier(n_estimators=50, random_state=42, n_jobs=-1)\n",
    "clf_rnd.fit(X_train_padded, y_train)"
   ],
   "metadata": {
    "collapsed": false,
    "ExecuteTime": {
     "end_time": "2023-07-17T15:28:13.342245Z",
     "start_time": "2023-07-17T15:28:12.757078Z"
    }
   }
  },
  {
   "cell_type": "code",
   "execution_count": 10,
   "outputs": [
    {
     "name": "stdout",
     "output_type": "stream",
     "text": [
      "F1 score train: 1.0\n",
      "F1 score val: 0.9926144756277696\n",
      "F1 score test: 0.9944913698127067\n"
     ]
    }
   ],
   "source": [
    "# Evaluate model\n",
    "y_train_pred = clf_rnd.predict(X_train_padded)\n",
    "y_val_pred = clf_rnd.predict(X_val_padded)\n",
    "y_test_pred = clf_rnd.predict(X_test_padded)\n",
    "\n",
    "print(\"F1 score train:\", f1_score(y_train_pred, y_train, pos_label='malware'))\n",
    "print(\"F1 score val:\", f1_score(y_val_pred, y_val, pos_label='malware'))\n",
    "print(\"F1 score test:\", f1_score(y_test_pred, y_test, pos_label='malware'))"
   ],
   "metadata": {
    "collapsed": false,
    "ExecuteTime": {
     "end_time": "2023-07-17T15:28:14.648533Z",
     "start_time": "2023-07-17T15:28:14.418504Z"
    }
   }
  },
  {
   "cell_type": "code",
   "execution_count": 11,
   "outputs": [
    {
     "data": {
      "text/plain": "NumberRate_AfterPath    0.079855\nisPortEighty            0.065570\ndomainlength            0.056257\nSymbolCount_URL         0.053563\ndomain_token_count      0.042301\n                          ...   \ndld_getArg              0.000158\ndld_filename            0.000113\nexecutable              0.000026\ndld_domain              0.000000\nNumberofDotsinURL       0.000000\nLength: 78, dtype: float64"
     },
     "execution_count": 11,
     "metadata": {},
     "output_type": "execute_result"
    }
   ],
   "source": [
    "#Get the most important feactures\n",
    "feature_importances = {name: score for name, score in zip(list(raw_df), clf_rnd.feature_importances_)}\n",
    "feature_importances_sorted = pd.Series(feature_importances).sort_values(ascending=False)\n",
    "feature_importances_sorted"
   ],
   "metadata": {
    "collapsed": false,
    "ExecuteTime": {
     "end_time": "2023-07-17T15:28:15.805070Z",
     "start_time": "2023-07-17T15:28:15.742750Z"
    }
   }
  },
  {
   "cell_type": "code",
   "execution_count": 12,
   "outputs": [
    {
     "data": {
      "text/plain": "['NumberRate_AfterPath',\n 'isPortEighty',\n 'domainlength',\n 'SymbolCount_URL',\n 'domain_token_count',\n 'tld',\n 'argDomanRatio',\n 'ISIpAddressInDomainName',\n 'delimeter_Domain',\n 'Entropy_URL',\n 'urlLen',\n 'LongestPathTokenLength',\n 'URL_Letter_Count',\n 'avgdomaintokenlen',\n 'pathDomainRatio']"
     },
     "execution_count": 12,
     "metadata": {},
     "output_type": "execute_result"
    }
   ],
   "source": [
    "#The most 15 important feacture\n",
    "columns = list(feature_importances_sorted.head(15).index)\n",
    "columns"
   ],
   "metadata": {
    "collapsed": false,
    "ExecuteTime": {
     "end_time": "2023-07-17T15:28:16.223537Z",
     "start_time": "2023-07-17T15:28:16.213609Z"
    }
   }
  },
  {
   "cell_type": "code",
   "execution_count": 13,
   "outputs": [],
   "source": [
    "#Reduce dataset to the most important feactures\n",
    "X_train_reduced = X_train_padded[columns].copy()\n",
    "X_val_reduced = X_val_padded[columns].copy()\n",
    "X_test_reduced = X_test_padded[columns].copy()\n",
    "\n",
    "columns_to_exclude = ['delimeter_Domain', 'Entropy_URL']\n",
    "\n",
    "X_train_reduced = X_train_reduced.drop(columns_to_exclude, axis=1)\n",
    "X_val_reduced = X_val_reduced.drop(columns_to_exclude, axis=1)\n",
    "X_test_reduced = X_test_reduced.drop(columns_to_exclude, axis=1)"
   ],
   "metadata": {
    "collapsed": false,
    "ExecuteTime": {
     "end_time": "2023-07-17T15:28:16.958404Z",
     "start_time": "2023-07-17T15:28:16.943855Z"
    }
   }
  },
  {
   "cell_type": "code",
   "execution_count": 14,
   "outputs": [
    {
     "data": {
      "text/plain": "       NumberRate_AfterPath  isPortEighty  domainlength  SymbolCount_URL  \\\n5559              -1.000000          -1.0          15.0             10.0   \n2835              -1.000000          -1.0           9.0              5.0   \n4700              -1.000000          -1.0          13.0              5.0   \n2445               0.086957          -1.0          15.0              7.0   \n2233              -1.000000          -1.0           9.0              8.0   \n...                     ...           ...           ...              ...   \n5191              -1.000000          -1.0          14.0              9.0   \n13418              0.000000          -1.0          13.0             11.0   \n5390              -1.000000          -1.0           9.0              8.0   \n860               -1.000000          -1.0           7.0              5.0   \n7270              -1.000000          -1.0          11.0              6.0   \n\n       domain_token_count  tld  argDomanRatio  ISIpAddressInDomainName  \\\n5559                  2.0  2.0       0.133333                     -1.0   \n2835                  2.0  2.0       0.222222                     -1.0   \n4700                  2.0  2.0       0.153846                     -1.0   \n2445                  2.0  2.0       1.533333                     -1.0   \n2233                  2.0  2.0       0.222222                     -1.0   \n...                   ...  ...            ...                      ...   \n5191                  2.0  2.0       0.142857                     -1.0   \n13418                 3.0  3.0       1.384615                     -1.0   \n5390                  2.0  2.0       0.222222                     -1.0   \n860                   2.0  2.0       0.285714                     -1.0   \n7270                  2.0  2.0       0.181818                     -1.0   \n\n       urlLen  LongestPathTokenLength  URL_Letter_Count  avgdomaintokenlen  \\\n5559     56.0                     6.0              39.0           7.000000   \n2835    103.0                    76.0              63.0           4.000000   \n4700    105.0                    67.0              82.0           6.000000   \n2445     55.0                    32.0              36.0           7.000000   \n2233     73.0                    30.0              51.0           4.000000   \n...       ...                     ...               ...                ...   \n5191    120.0                    77.0              92.0           6.500000   \n13418    66.0                    22.0              50.0           3.666667   \n5390     57.0                     9.0              46.0           4.000000   \n860      96.0                    65.0              71.0           3.000000   \n7270     53.0                    13.0              43.0           5.000000   \n\n       pathDomainRatio  \n5559          2.266667  \n2835          9.666667  \n4700          6.538462  \n2445          2.200000  \n2233          6.333334  \n...                ...  \n5191          7.071429  \n13418         3.538461  \n5390          4.555555  \n860          11.714286  \n7270          3.090909  \n\n[8695 rows x 13 columns]",
      "text/html": "<div>\n<style scoped>\n    .dataframe tbody tr th:only-of-type {\n        vertical-align: middle;\n    }\n\n    .dataframe tbody tr th {\n        vertical-align: top;\n    }\n\n    .dataframe thead th {\n        text-align: right;\n    }\n</style>\n<table border=\"1\" class=\"dataframe\">\n  <thead>\n    <tr style=\"text-align: right;\">\n      <th></th>\n      <th>NumberRate_AfterPath</th>\n      <th>isPortEighty</th>\n      <th>domainlength</th>\n      <th>SymbolCount_URL</th>\n      <th>domain_token_count</th>\n      <th>tld</th>\n      <th>argDomanRatio</th>\n      <th>ISIpAddressInDomainName</th>\n      <th>urlLen</th>\n      <th>LongestPathTokenLength</th>\n      <th>URL_Letter_Count</th>\n      <th>avgdomaintokenlen</th>\n      <th>pathDomainRatio</th>\n    </tr>\n  </thead>\n  <tbody>\n    <tr>\n      <th>5559</th>\n      <td>-1.000000</td>\n      <td>-1.0</td>\n      <td>15.0</td>\n      <td>10.0</td>\n      <td>2.0</td>\n      <td>2.0</td>\n      <td>0.133333</td>\n      <td>-1.0</td>\n      <td>56.0</td>\n      <td>6.0</td>\n      <td>39.0</td>\n      <td>7.000000</td>\n      <td>2.266667</td>\n    </tr>\n    <tr>\n      <th>2835</th>\n      <td>-1.000000</td>\n      <td>-1.0</td>\n      <td>9.0</td>\n      <td>5.0</td>\n      <td>2.0</td>\n      <td>2.0</td>\n      <td>0.222222</td>\n      <td>-1.0</td>\n      <td>103.0</td>\n      <td>76.0</td>\n      <td>63.0</td>\n      <td>4.000000</td>\n      <td>9.666667</td>\n    </tr>\n    <tr>\n      <th>4700</th>\n      <td>-1.000000</td>\n      <td>-1.0</td>\n      <td>13.0</td>\n      <td>5.0</td>\n      <td>2.0</td>\n      <td>2.0</td>\n      <td>0.153846</td>\n      <td>-1.0</td>\n      <td>105.0</td>\n      <td>67.0</td>\n      <td>82.0</td>\n      <td>6.000000</td>\n      <td>6.538462</td>\n    </tr>\n    <tr>\n      <th>2445</th>\n      <td>0.086957</td>\n      <td>-1.0</td>\n      <td>15.0</td>\n      <td>7.0</td>\n      <td>2.0</td>\n      <td>2.0</td>\n      <td>1.533333</td>\n      <td>-1.0</td>\n      <td>55.0</td>\n      <td>32.0</td>\n      <td>36.0</td>\n      <td>7.000000</td>\n      <td>2.200000</td>\n    </tr>\n    <tr>\n      <th>2233</th>\n      <td>-1.000000</td>\n      <td>-1.0</td>\n      <td>9.0</td>\n      <td>8.0</td>\n      <td>2.0</td>\n      <td>2.0</td>\n      <td>0.222222</td>\n      <td>-1.0</td>\n      <td>73.0</td>\n      <td>30.0</td>\n      <td>51.0</td>\n      <td>4.000000</td>\n      <td>6.333334</td>\n    </tr>\n    <tr>\n      <th>...</th>\n      <td>...</td>\n      <td>...</td>\n      <td>...</td>\n      <td>...</td>\n      <td>...</td>\n      <td>...</td>\n      <td>...</td>\n      <td>...</td>\n      <td>...</td>\n      <td>...</td>\n      <td>...</td>\n      <td>...</td>\n      <td>...</td>\n    </tr>\n    <tr>\n      <th>5191</th>\n      <td>-1.000000</td>\n      <td>-1.0</td>\n      <td>14.0</td>\n      <td>9.0</td>\n      <td>2.0</td>\n      <td>2.0</td>\n      <td>0.142857</td>\n      <td>-1.0</td>\n      <td>120.0</td>\n      <td>77.0</td>\n      <td>92.0</td>\n      <td>6.500000</td>\n      <td>7.071429</td>\n    </tr>\n    <tr>\n      <th>13418</th>\n      <td>0.000000</td>\n      <td>-1.0</td>\n      <td>13.0</td>\n      <td>11.0</td>\n      <td>3.0</td>\n      <td>3.0</td>\n      <td>1.384615</td>\n      <td>-1.0</td>\n      <td>66.0</td>\n      <td>22.0</td>\n      <td>50.0</td>\n      <td>3.666667</td>\n      <td>3.538461</td>\n    </tr>\n    <tr>\n      <th>5390</th>\n      <td>-1.000000</td>\n      <td>-1.0</td>\n      <td>9.0</td>\n      <td>8.0</td>\n      <td>2.0</td>\n      <td>2.0</td>\n      <td>0.222222</td>\n      <td>-1.0</td>\n      <td>57.0</td>\n      <td>9.0</td>\n      <td>46.0</td>\n      <td>4.000000</td>\n      <td>4.555555</td>\n    </tr>\n    <tr>\n      <th>860</th>\n      <td>-1.000000</td>\n      <td>-1.0</td>\n      <td>7.0</td>\n      <td>5.0</td>\n      <td>2.0</td>\n      <td>2.0</td>\n      <td>0.285714</td>\n      <td>-1.0</td>\n      <td>96.0</td>\n      <td>65.0</td>\n      <td>71.0</td>\n      <td>3.000000</td>\n      <td>11.714286</td>\n    </tr>\n    <tr>\n      <th>7270</th>\n      <td>-1.000000</td>\n      <td>-1.0</td>\n      <td>11.0</td>\n      <td>6.0</td>\n      <td>2.0</td>\n      <td>2.0</td>\n      <td>0.181818</td>\n      <td>-1.0</td>\n      <td>53.0</td>\n      <td>13.0</td>\n      <td>43.0</td>\n      <td>5.000000</td>\n      <td>3.090909</td>\n    </tr>\n  </tbody>\n</table>\n<p>8695 rows × 13 columns</p>\n</div>"
     },
     "execution_count": 14,
     "metadata": {},
     "output_type": "execute_result"
    }
   ],
   "source": [
    "# raw_df['NumberRate_AfterPath'].value_counts()\n",
    "# raw_df['NumberRate_AfterPath'][raw_df['URL_Type_obf_Type'] == 'benign'].value_counts()\n",
    "# raw_df['NumberRate_AfterPath'].describe()\n",
    "# raw_df['Entropy_URL'].value_counts()\n",
    "# raw_df['LongestPathTokenLength'].describe()\n",
    "# raw_df['URL_Letter_Count'].value_counts()\n",
    "# raw_df['avgdomaintokenlen'].value_counts()\n",
    "X_train_reduced"
   ],
   "metadata": {
    "collapsed": false,
    "ExecuteTime": {
     "end_time": "2023-07-17T15:28:17.341256Z",
     "start_time": "2023-07-17T15:28:17.313218Z"
    }
   }
  },
  {
   "cell_type": "code",
   "execution_count": 15,
   "outputs": [],
   "source": [
    "# The dataset is scaled\n",
    "scaler = RobustScaler()\n",
    "X_train_reduced_scaled = scaler.fit_transform(X_train_reduced.copy())\n",
    "X_val_reduced_scaled = scaler.fit_transform(X_val_reduced.copy())\n",
    "X_test_reduced_scaled = scaler.fit_transform(X_test_reduced.copy())\n",
    "\n",
    "# Transform the result to a Pandas DataFrame\n",
    "X_train_reduced_prep = pd.DataFrame(X_train_reduced_scaled, columns=X_train_reduced.columns, index=y_train.index)\n",
    "X_val_reduced_prep = pd.DataFrame(X_val_reduced_scaled, columns=X_val_reduced.columns, index=y_val.index)\n",
    "X_test_reduced_prep = pd.DataFrame(X_test_reduced_scaled, columns=X_test_reduced.columns, index=y_test.index)"
   ],
   "metadata": {
    "collapsed": false,
    "ExecuteTime": {
     "end_time": "2023-07-17T15:28:19.044120Z",
     "start_time": "2023-07-17T15:28:19.017487Z"
    }
   }
  },
  {
   "cell_type": "code",
   "execution_count": 16,
   "outputs": [],
   "source": [
    "#Transform the targets to numerics values\n",
    "y_train_num = y_train.map({'malware': 1, 'benign': 0})\n",
    "y_val_num = y_val.map({'malware': 1, 'benign': 0})\n",
    "y_test_num = y_test.map({'malware': 1, 'benign': 0})"
   ],
   "metadata": {
    "collapsed": false,
    "ExecuteTime": {
     "end_time": "2023-07-17T15:28:20.678756Z",
     "start_time": "2023-07-17T15:28:20.670445Z"
    }
   }
  },
  {
   "cell_type": "code",
   "execution_count": 17,
   "outputs": [],
   "source": [
    "#Save the data\n",
    "np.savez('../../../../../data/processed/urls/malware/scaled_train_data', inputs=X_train_reduced_prep, targets=y_train_num)\n",
    "np.savez('../../../../../data/processed/urls/malware/scaled_validation_data', inputs=X_val_reduced_prep, targets=y_val_num)\n",
    "np.savez('../../../../../data/processed/urls/malware/scaled_test_data', inputs=X_test_reduced_prep, targets=y_test_num)\n",
    "\n",
    "np.savez('../../../../../data/processed/urls/malware/train_data', inputs=X_train_reduced, targets=y_train_num)\n",
    "np.savez('../../../../../data/processed/urls/malware/validation_data', inputs=X_val_reduced, targets=y_val_num)\n",
    "np.savez('../../../../../data/processed/urls/malware/test_data', inputs=X_test_reduced, targets=y_test_num)"
   ],
   "metadata": {
    "collapsed": false,
    "ExecuteTime": {
     "end_time": "2023-07-17T15:28:21.471703Z",
     "start_time": "2023-07-17T15:28:21.453075Z"
    }
   }
  },
  {
   "cell_type": "code",
   "execution_count": null,
   "outputs": [],
   "source": [],
   "metadata": {
    "collapsed": false
   }
  }
 ],
 "metadata": {
  "kernelspec": {
   "display_name": "Python 3",
   "language": "python",
   "name": "python3"
  },
  "language_info": {
   "codemirror_mode": {
    "name": "ipython",
    "version": 2
   },
   "file_extension": ".py",
   "mimetype": "text/x-python",
   "name": "python",
   "nbconvert_exporter": "python",
   "pygments_lexer": "ipython2",
   "version": "2.7.6"
  }
 },
 "nbformat": 4,
 "nbformat_minor": 0
}
