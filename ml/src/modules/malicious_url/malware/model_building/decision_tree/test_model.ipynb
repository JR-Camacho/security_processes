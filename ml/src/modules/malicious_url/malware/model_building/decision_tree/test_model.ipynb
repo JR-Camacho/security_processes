{
 "cells": [
  {
   "cell_type": "markdown",
   "source": [
    "Test the model (Make predictions)"
   ],
   "metadata": {
    "collapsed": false
   }
  },
  {
   "cell_type": "code",
   "execution_count": 1,
   "outputs": [],
   "source": [
    "from src.utils.process_url import get_url_malware_features\n",
    "import joblib"
   ],
   "metadata": {
    "collapsed": false,
    "ExecuteTime": {
     "end_time": "2023-07-17T15:55:02.101052Z",
     "start_time": "2023-07-17T15:55:00.981327Z"
    }
   }
  },
  {
   "cell_type": "code",
   "execution_count": 6,
   "outputs": [
    {
     "data": {
      "text/plain": "    NumberRate_AfterPath  isPortEighty  domainlength  SymbolCount_URL  \\\n0               0.000000            -1            15               10   \n1               0.000000            -1            10                7   \n2               1.000000            -1            12                9   \n3               0.307692            -1            10                9   \n4              -1.000000            -1            13                7   \n5               0.000000             0            14                8   \n6               0.000000            -1            14                8   \n7               0.000000            -1            11                8   \n8               0.000000            -1            15               12   \n9               0.638889            -1            15                7   \n10              0.000000            -1            20               11   \n11              0.000000            -1            29               15   \n\n    domain_token_count  tld  argDomanRatio  ISIpAddressInDomainName  urlLen  \\\n0                    3    2       0.733333                       -1      48   \n1                    2    2       0.000000                       -1      48   \n2                    3    2       0.000000                       -1      40   \n3                    3   15       0.000000                       -1      45   \n4                    3    5       0.000000                       -1      27   \n5                    2    0       0.000000                       -1      34   \n6                    3    2       0.000000                       -1      86   \n7                    2    2       0.000000                       -1      43   \n8                    3    2       2.733333                       -1      71   \n9                    3    2       0.000000                       -1      62   \n10                   3    2       1.300000                       -1      64   \n11                   3    2       1.793103                       -1     107   \n\n    LongestPathTokenLength  URL_Letter_Count  avgdomaintokenlen  \\\n0                        4                38           4.333333   \n1                       18                40           4.500000   \n2                        9                15           3.333333   \n3                       13                31           2.666667   \n4                        4                20           3.666667   \n5                        4                24           6.500000   \n6                       47                73           4.000000   \n7                       17                34           5.000000   \n8                        5                56           4.333333   \n9                       36                28           4.333333   \n10                       9                46           6.000000   \n11                       9                83           9.000000   \n\n    pathDomainRatio  \n0          0.866667  \n1          3.000000  \n2          1.666667  \n3          2.700000  \n4          0.461538  \n5          0.928571  \n6          4.571429  \n7          2.181818  \n8          0.400000  \n9          2.600000  \n10         0.500000  \n11         0.620690  ",
      "text/html": "<div>\n<style scoped>\n    .dataframe tbody tr th:only-of-type {\n        vertical-align: middle;\n    }\n\n    .dataframe tbody tr th {\n        vertical-align: top;\n    }\n\n    .dataframe thead th {\n        text-align: right;\n    }\n</style>\n<table border=\"1\" class=\"dataframe\">\n  <thead>\n    <tr style=\"text-align: right;\">\n      <th></th>\n      <th>NumberRate_AfterPath</th>\n      <th>isPortEighty</th>\n      <th>domainlength</th>\n      <th>SymbolCount_URL</th>\n      <th>domain_token_count</th>\n      <th>tld</th>\n      <th>argDomanRatio</th>\n      <th>ISIpAddressInDomainName</th>\n      <th>urlLen</th>\n      <th>LongestPathTokenLength</th>\n      <th>URL_Letter_Count</th>\n      <th>avgdomaintokenlen</th>\n      <th>pathDomainRatio</th>\n    </tr>\n  </thead>\n  <tbody>\n    <tr>\n      <th>0</th>\n      <td>0.000000</td>\n      <td>-1</td>\n      <td>15</td>\n      <td>10</td>\n      <td>3</td>\n      <td>2</td>\n      <td>0.733333</td>\n      <td>-1</td>\n      <td>48</td>\n      <td>4</td>\n      <td>38</td>\n      <td>4.333333</td>\n      <td>0.866667</td>\n    </tr>\n    <tr>\n      <th>1</th>\n      <td>0.000000</td>\n      <td>-1</td>\n      <td>10</td>\n      <td>7</td>\n      <td>2</td>\n      <td>2</td>\n      <td>0.000000</td>\n      <td>-1</td>\n      <td>48</td>\n      <td>18</td>\n      <td>40</td>\n      <td>4.500000</td>\n      <td>3.000000</td>\n    </tr>\n    <tr>\n      <th>2</th>\n      <td>1.000000</td>\n      <td>-1</td>\n      <td>12</td>\n      <td>9</td>\n      <td>3</td>\n      <td>2</td>\n      <td>0.000000</td>\n      <td>-1</td>\n      <td>40</td>\n      <td>9</td>\n      <td>15</td>\n      <td>3.333333</td>\n      <td>1.666667</td>\n    </tr>\n    <tr>\n      <th>3</th>\n      <td>0.307692</td>\n      <td>-1</td>\n      <td>10</td>\n      <td>9</td>\n      <td>3</td>\n      <td>15</td>\n      <td>0.000000</td>\n      <td>-1</td>\n      <td>45</td>\n      <td>13</td>\n      <td>31</td>\n      <td>2.666667</td>\n      <td>2.700000</td>\n    </tr>\n    <tr>\n      <th>4</th>\n      <td>-1.000000</td>\n      <td>-1</td>\n      <td>13</td>\n      <td>7</td>\n      <td>3</td>\n      <td>5</td>\n      <td>0.000000</td>\n      <td>-1</td>\n      <td>27</td>\n      <td>4</td>\n      <td>20</td>\n      <td>3.666667</td>\n      <td>0.461538</td>\n    </tr>\n    <tr>\n      <th>5</th>\n      <td>0.000000</td>\n      <td>0</td>\n      <td>14</td>\n      <td>8</td>\n      <td>2</td>\n      <td>0</td>\n      <td>0.000000</td>\n      <td>-1</td>\n      <td>34</td>\n      <td>4</td>\n      <td>24</td>\n      <td>6.500000</td>\n      <td>0.928571</td>\n    </tr>\n    <tr>\n      <th>6</th>\n      <td>0.000000</td>\n      <td>-1</td>\n      <td>14</td>\n      <td>8</td>\n      <td>3</td>\n      <td>2</td>\n      <td>0.000000</td>\n      <td>-1</td>\n      <td>86</td>\n      <td>47</td>\n      <td>73</td>\n      <td>4.000000</td>\n      <td>4.571429</td>\n    </tr>\n    <tr>\n      <th>7</th>\n      <td>0.000000</td>\n      <td>-1</td>\n      <td>11</td>\n      <td>8</td>\n      <td>2</td>\n      <td>2</td>\n      <td>0.000000</td>\n      <td>-1</td>\n      <td>43</td>\n      <td>17</td>\n      <td>34</td>\n      <td>5.000000</td>\n      <td>2.181818</td>\n    </tr>\n    <tr>\n      <th>8</th>\n      <td>0.000000</td>\n      <td>-1</td>\n      <td>15</td>\n      <td>12</td>\n      <td>3</td>\n      <td>2</td>\n      <td>2.733333</td>\n      <td>-1</td>\n      <td>71</td>\n      <td>5</td>\n      <td>56</td>\n      <td>4.333333</td>\n      <td>0.400000</td>\n    </tr>\n    <tr>\n      <th>9</th>\n      <td>0.638889</td>\n      <td>-1</td>\n      <td>15</td>\n      <td>7</td>\n      <td>3</td>\n      <td>2</td>\n      <td>0.000000</td>\n      <td>-1</td>\n      <td>62</td>\n      <td>36</td>\n      <td>28</td>\n      <td>4.333333</td>\n      <td>2.600000</td>\n    </tr>\n    <tr>\n      <th>10</th>\n      <td>0.000000</td>\n      <td>-1</td>\n      <td>20</td>\n      <td>11</td>\n      <td>3</td>\n      <td>2</td>\n      <td>1.300000</td>\n      <td>-1</td>\n      <td>64</td>\n      <td>9</td>\n      <td>46</td>\n      <td>6.000000</td>\n      <td>0.500000</td>\n    </tr>\n    <tr>\n      <th>11</th>\n      <td>0.000000</td>\n      <td>-1</td>\n      <td>29</td>\n      <td>15</td>\n      <td>3</td>\n      <td>2</td>\n      <td>1.793103</td>\n      <td>-1</td>\n      <td>107</td>\n      <td>9</td>\n      <td>83</td>\n      <td>9.000000</td>\n      <td>0.620690</td>\n    </tr>\n  </tbody>\n</table>\n</div>"
     },
     "execution_count": 6,
     "metadata": {},
     "output_type": "execute_result"
    }
   ],
   "source": [
    "#Make predictions\n",
    "urls = [\n",
    "    \"https://www.example.com/path/to/page?param=value\",\n",
    "    \"https://github.com/JR-Camacho/security_processes\",\n",
    "    \"https://www.mdpi.com/2079-9292/11/7/1090\",\n",
    "    \"https://www.unb.ca/cic/datasets/url-2016.html\",\n",
    "    \"https://www.utesa.edu/home/\",\n",
    "    \"http://example.com:80/path/to/page\",\n",
    "    \"https://www.kaggle.com/code/eslamfouad/statistical-inference-of-malicious-urls-dataset\",\n",
    "    \"https://mp3raid.com/music/krizz_kaliko.html\",\n",
    "    \"https://www.youtube.com/watch?v=PVjiKRfKpPI&list=RDEgBJmlPo8Xw&index=27\",\n",
    "    \"https://chat.openai.com/c/b4e1f400-58a0-444b-811e-aa065832809b\",\n",
    "    \"http://www.malware-site.com/login.php?user=admin&password=123456\",\n",
    "    \"http://www.evilsite-secure-login.com/banking/login.php?user=admin&password=123456&redirect=malware-site.com\"\n",
    "]\n",
    "\n",
    "df = get_url_malware_features(urls)\n",
    "df"
   ],
   "metadata": {
    "collapsed": false,
    "ExecuteTime": {
     "end_time": "2023-07-17T16:30:04.126894Z",
     "start_time": "2023-07-17T16:30:04.094315Z"
    }
   }
  },
  {
   "cell_type": "code",
   "execution_count": 7,
   "outputs": [],
   "source": [
    "#Import model\n",
    "MODEL_PATH = '../../../../../../models/malicius_url/malware/decision_tree/malware_url_detection.pkl'\n",
    "MODEL_OPTIMIZED_PATH = '../../../../../../models/malicius_url/malware/decision_tree/malware_url_detection_optimized.pkl'\n",
    "\n",
    "model = joblib.load(MODEL_PATH)\n",
    "model_optimized = joblib.load(MODEL_OPTIMIZED_PATH)"
   ],
   "metadata": {
    "collapsed": false,
    "ExecuteTime": {
     "end_time": "2023-07-17T16:30:05.317693Z",
     "start_time": "2023-07-17T16:30:05.288766Z"
    }
   }
  },
  {
   "cell_type": "code",
   "execution_count": 8,
   "outputs": [
    {
     "name": "stderr",
     "output_type": "stream",
     "text": [
      "/Users/josecamacho/Desktop/Projects/security/ml/venv/lib/python3.11/site-packages/sklearn/base.py:432: UserWarning: X has feature names, but DecisionTreeClassifier was fitted without feature names\n",
      "  warnings.warn(\n"
     ]
    },
    {
     "data": {
      "text/plain": "array([1, 1, 1, 0, 1, 1, 0, 1, 1, 0, 1, 0])"
     },
     "execution_count": 8,
     "metadata": {},
     "output_type": "execute_result"
    }
   ],
   "source": [
    "y_pred = model.predict(df)\n",
    "y_pred"
   ],
   "metadata": {
    "collapsed": false,
    "ExecuteTime": {
     "end_time": "2023-07-17T16:30:06.751036Z",
     "start_time": "2023-07-17T16:30:06.738434Z"
    }
   }
  },
  {
   "cell_type": "code",
   "execution_count": 9,
   "outputs": [
    {
     "name": "stderr",
     "output_type": "stream",
     "text": [
      "/Users/josecamacho/Desktop/Projects/security/ml/venv/lib/python3.11/site-packages/sklearn/base.py:432: UserWarning: X has feature names, but DecisionTreeClassifier was fitted without feature names\n",
      "  warnings.warn(\n"
     ]
    },
    {
     "data": {
      "text/plain": "array([1, 1, 1, 0, 1, 1, 0, 1, 0, 1, 1, 0])"
     },
     "execution_count": 9,
     "metadata": {},
     "output_type": "execute_result"
    }
   ],
   "source": [
    "y_pred = model_optimized.predict(df)\n",
    "y_pred"
   ],
   "metadata": {
    "collapsed": false,
    "ExecuteTime": {
     "end_time": "2023-07-17T16:30:09.178677Z",
     "start_time": "2023-07-17T16:30:09.169651Z"
    }
   }
  },
  {
   "cell_type": "code",
   "execution_count": null,
   "outputs": [],
   "source": [],
   "metadata": {
    "collapsed": false
   }
  }
 ],
 "metadata": {
  "kernelspec": {
   "display_name": "Python 3",
   "language": "python",
   "name": "python3"
  },
  "language_info": {
   "codemirror_mode": {
    "name": "ipython",
    "version": 2
   },
   "file_extension": ".py",
   "mimetype": "text/x-python",
   "name": "python",
   "nbconvert_exporter": "python",
   "pygments_lexer": "ipython2",
   "version": "2.7.6"
  }
 },
 "nbformat": 4,
 "nbformat_minor": 0
}
