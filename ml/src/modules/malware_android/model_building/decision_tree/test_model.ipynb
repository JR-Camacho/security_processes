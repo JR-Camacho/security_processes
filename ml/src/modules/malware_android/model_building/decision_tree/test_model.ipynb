{
 "cells": [
  {
   "cell_type": "markdown",
   "source": [
    "Test the model (Make predictions)"
   ],
   "metadata": {
    "collapsed": false
   }
  },
  {
   "cell_type": "code",
   "execution_count": 1,
   "outputs": [],
   "source": [
    "from src.utils.process_url import get_url_features\n",
    "import joblib"
   ],
   "metadata": {
    "collapsed": false,
    "ExecuteTime": {
     "end_time": "2023-07-12T04:08:52.208690Z",
     "start_time": "2023-07-12T04:08:51.236111Z"
    }
   }
  },
  {
   "cell_type": "code",
   "execution_count": 6,
   "outputs": [
    {
     "data": {
      "text/plain": "   domainUrlRatio  tld  domainlength  SymbolCount_URL  pathDomainRatio  \\\n0        0.312500    2            15               10         0.866667   \n1        0.500000    3            22                7         0.636364   \n2        0.300000    2            12                9         1.666667   \n3        0.239130    2            11                9         2.454545   \n4        0.481481    5            13                7         0.461538   \n5        0.473684    0            18                9         0.722222   \n6        0.411765    0            14                8         0.928571   \n\n   isPortEighty  domain_token_count  pathurlRatio  Query_LetterCount  \\\n0            -1                   3      0.270833                 10   \n1            -1                   3      0.318182                 -1   \n2            -1                   3      0.500000                 -1   \n3            -1                   3      0.586957                 -1   \n4            -1                   3      0.222222                 -1   \n5             0                   3      0.342105                 -1   \n6             0                   2      0.382353                 -1   \n\n   subDirLen  \n0          4  \n1          3  \n2          5  \n3          4  \n4          3  \n5          4  \n6          4  ",
      "text/html": "<div>\n<style scoped>\n    .dataframe tbody tr th:only-of-type {\n        vertical-align: middle;\n    }\n\n    .dataframe tbody tr th {\n        vertical-align: top;\n    }\n\n    .dataframe thead th {\n        text-align: right;\n    }\n</style>\n<table border=\"1\" class=\"dataframe\">\n  <thead>\n    <tr style=\"text-align: right;\">\n      <th></th>\n      <th>domainUrlRatio</th>\n      <th>tld</th>\n      <th>domainlength</th>\n      <th>SymbolCount_URL</th>\n      <th>pathDomainRatio</th>\n      <th>isPortEighty</th>\n      <th>domain_token_count</th>\n      <th>pathurlRatio</th>\n      <th>Query_LetterCount</th>\n      <th>subDirLen</th>\n    </tr>\n  </thead>\n  <tbody>\n    <tr>\n      <th>0</th>\n      <td>0.312500</td>\n      <td>2</td>\n      <td>15</td>\n      <td>10</td>\n      <td>0.866667</td>\n      <td>-1</td>\n      <td>3</td>\n      <td>0.270833</td>\n      <td>10</td>\n      <td>4</td>\n    </tr>\n    <tr>\n      <th>1</th>\n      <td>0.500000</td>\n      <td>3</td>\n      <td>22</td>\n      <td>7</td>\n      <td>0.636364</td>\n      <td>-1</td>\n      <td>3</td>\n      <td>0.318182</td>\n      <td>-1</td>\n      <td>3</td>\n    </tr>\n    <tr>\n      <th>2</th>\n      <td>0.300000</td>\n      <td>2</td>\n      <td>12</td>\n      <td>9</td>\n      <td>1.666667</td>\n      <td>-1</td>\n      <td>3</td>\n      <td>0.500000</td>\n      <td>-1</td>\n      <td>5</td>\n    </tr>\n    <tr>\n      <th>3</th>\n      <td>0.239130</td>\n      <td>2</td>\n      <td>11</td>\n      <td>9</td>\n      <td>2.454545</td>\n      <td>-1</td>\n      <td>3</td>\n      <td>0.586957</td>\n      <td>-1</td>\n      <td>4</td>\n    </tr>\n    <tr>\n      <th>4</th>\n      <td>0.481481</td>\n      <td>5</td>\n      <td>13</td>\n      <td>7</td>\n      <td>0.461538</td>\n      <td>-1</td>\n      <td>3</td>\n      <td>0.222222</td>\n      <td>-1</td>\n      <td>3</td>\n    </tr>\n    <tr>\n      <th>5</th>\n      <td>0.473684</td>\n      <td>0</td>\n      <td>18</td>\n      <td>9</td>\n      <td>0.722222</td>\n      <td>0</td>\n      <td>3</td>\n      <td>0.342105</td>\n      <td>-1</td>\n      <td>4</td>\n    </tr>\n    <tr>\n      <th>6</th>\n      <td>0.411765</td>\n      <td>0</td>\n      <td>14</td>\n      <td>8</td>\n      <td>0.928571</td>\n      <td>0</td>\n      <td>2</td>\n      <td>0.382353</td>\n      <td>-1</td>\n      <td>4</td>\n    </tr>\n  </tbody>\n</table>\n</div>"
     },
     "execution_count": 6,
     "metadata": {},
     "output_type": "execute_result"
    }
   ],
   "source": [
    "#Make predictions\n",
    "urls = [\n",
    "    \"https://www.example.com/path/to/page?param=value\",\n",
    "    \"https://www.anotherexample.net/subdirectory/\",\n",
    "    \"https://www.mdpi.com/2079-9292/11/7/1090\",\n",
    "    \"https://www.unb.ca/cic/datasets/url-2016.html\",\n",
    "    \"https://www.utesa.edu/home/\",\n",
    "    \"http://www.example.com:80/path/to/page\",\n",
    "    \"http://example.com:80/path/to/page\",\n",
    "]\n",
    "\n",
    "df = get_url_features(urls)\n",
    "df"
   ],
   "metadata": {
    "collapsed": false,
    "ExecuteTime": {
     "end_time": "2023-07-12T04:15:21.090207Z",
     "start_time": "2023-07-12T04:15:21.061303Z"
    }
   }
  },
  {
   "cell_type": "code",
   "execution_count": 7,
   "outputs": [],
   "source": [
    "#Import model\n",
    "MODEL_PATH = '../../../../../models/malicius_url/phishing/decision_tree/fishing_url_detection.pkl'\n",
    "model = joblib.load(MODEL_PATH)"
   ],
   "metadata": {
    "collapsed": false,
    "ExecuteTime": {
     "end_time": "2023-07-12T04:15:21.709282Z",
     "start_time": "2023-07-12T04:15:21.670875Z"
    }
   }
  },
  {
   "cell_type": "code",
   "execution_count": 8,
   "outputs": [
    {
     "name": "stderr",
     "output_type": "stream",
     "text": [
      "/Users/josecamacho/Desktop/Projects/security/ml/venv/lib/python3.11/site-packages/sklearn/base.py:432: UserWarning: X has feature names, but DecisionTreeClassifier was fitted without feature names\n",
      "  warnings.warn(\n"
     ]
    },
    {
     "data": {
      "text/plain": "array([1, 1, 1, 0, 1, 1, 1])"
     },
     "execution_count": 8,
     "metadata": {},
     "output_type": "execute_result"
    }
   ],
   "source": [
    "y_pred = model.predict(df)\n",
    "y_pred"
   ],
   "metadata": {
    "collapsed": false,
    "ExecuteTime": {
     "end_time": "2023-07-12T04:15:23.214833Z",
     "start_time": "2023-07-12T04:15:23.199942Z"
    }
   }
  },
  {
   "cell_type": "code",
   "execution_count": null,
   "outputs": [],
   "source": [],
   "metadata": {
    "collapsed": false
   }
  }
 ],
 "metadata": {
  "kernelspec": {
   "display_name": "Python 3",
   "language": "python",
   "name": "python3"
  },
  "language_info": {
   "codemirror_mode": {
    "name": "ipython",
    "version": 2
   },
   "file_extension": ".py",
   "mimetype": "text/x-python",
   "name": "python",
   "nbconvert_exporter": "python",
   "pygments_lexer": "ipython2",
   "version": "2.7.6"
  }
 },
 "nbformat": 4,
 "nbformat_minor": 0
}
