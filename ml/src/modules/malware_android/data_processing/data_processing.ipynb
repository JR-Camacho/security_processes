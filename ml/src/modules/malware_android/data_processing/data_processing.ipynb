{
 "cells": [
  {
   "cell_type": "markdown",
   "source": [
    "Processing the data"
   ],
   "metadata": {
    "collapsed": false
   }
  },
  {
   "cell_type": "code",
   "execution_count": 2,
   "outputs": [],
   "source": [
    "from src.utils.split_data import train_val_test_split, remove_labels\n",
    "\n",
    "import pandas as pd\n",
    "import numpy as np"
   ],
   "metadata": {
    "collapsed": false,
    "ExecuteTime": {
     "end_time": "2023-07-08T00:53:05.824157Z",
     "start_time": "2023-07-08T00:53:05.799958Z"
    }
   }
  },
  {
   "cell_type": "code",
   "execution_count": 3,
   "outputs": [],
   "source": [
    "#Load dataset\n",
    "df = pd.read_csv('../../../../data/raw/android_malware/TotalFeatures-ISCXFlowMeter.csv')\n",
    "df['calss'] = df['calss'].factorize()[0]"
   ],
   "metadata": {
    "collapsed": false,
    "ExecuteTime": {
     "end_time": "2023-07-08T00:53:13.595592Z",
     "start_time": "2023-07-08T00:53:07.994660Z"
    }
   }
  },
  {
   "cell_type": "code",
   "execution_count": 4,
   "outputs": [],
   "source": [
    "#Split dataset\n",
    "train_set, val_set, test_set = train_val_test_split(df)\n",
    "\n",
    "#Remove labels\n",
    "X_train, y_train = remove_labels(train_set, 'calss')\n",
    "X_val, y_val = remove_labels(val_set, 'calss')\n",
    "X_test, y_test = remove_labels(test_set, 'calss')"
   ],
   "metadata": {
    "collapsed": false,
    "ExecuteTime": {
     "end_time": "2023-07-08T00:53:15.590708Z",
     "start_time": "2023-07-08T00:53:14.462428Z"
    }
   }
  },
  {
   "cell_type": "code",
   "execution_count": 6,
   "outputs": [],
   "source": [
    "#Save the data\n",
    "np.savez('../../../../data/processed/android_malware/train_data', inputs=X_train, targets=y_train)\n",
    "np.savez('../../../../data/processed/android_malware/validation_data', inputs=X_val, targets=y_val)\n",
    "np.savez('../../../../data/processed/android_malware/test_data', inputs=X_test, targets=y_test)"
   ],
   "metadata": {
    "collapsed": false,
    "ExecuteTime": {
     "end_time": "2023-07-08T00:58:53.813009Z",
     "start_time": "2023-07-08T00:58:52.047567Z"
    }
   }
  }
 ],
 "metadata": {
  "kernelspec": {
   "display_name": "Python 3",
   "language": "python",
   "name": "python3"
  },
  "language_info": {
   "codemirror_mode": {
    "name": "ipython",
    "version": 2
   },
   "file_extension": ".py",
   "mimetype": "text/x-python",
   "name": "python",
   "nbconvert_exporter": "python",
   "pygments_lexer": "ipython2",
   "version": "2.7.6"
  }
 },
 "nbformat": 4,
 "nbformat_minor": 0
}
