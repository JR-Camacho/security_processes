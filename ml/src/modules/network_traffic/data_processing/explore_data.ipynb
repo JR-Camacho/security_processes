{
 "cells": [
  {
   "cell_type": "code",
   "execution_count": 1,
   "metadata": {
    "collapsed": true,
    "ExecuteTime": {
     "end_time": "2023-06-21T04:55:04.303693Z",
     "start_time": "2023-06-21T04:55:03.257161Z"
    }
   },
   "outputs": [],
   "source": [
    "from src.utils.load_data import load_kdd_dataset"
   ]
  },
  {
   "cell_type": "code",
   "execution_count": 4,
   "outputs": [
    {
     "data": {
      "text/plain": "   duration protocol_type     service flag  src_bytes  dst_bytes land  \\\n0       0.0           tcp    ftp_data   SF      491.0        0.0    0   \n1       0.0           udp       other   SF      146.0        0.0    0   \n2       0.0           tcp     private   S0        0.0        0.0    0   \n3       0.0           tcp        http   SF      232.0     8153.0    0   \n4       0.0           tcp        http   SF      199.0      420.0    0   \n5       0.0           tcp     private  REJ        0.0        0.0    0   \n6       0.0           tcp     private   S0        0.0        0.0    0   \n7       0.0           tcp     private   S0        0.0        0.0    0   \n8       0.0           tcp  remote_job   S0        0.0        0.0    0   \n9       0.0           tcp     private   S0        0.0        0.0    0   \n\n   wrong_fragment  urgent  hot  ...  dst_host_srv_count  \\\n0             0.0     0.0  0.0  ...                25.0   \n1             0.0     0.0  0.0  ...                 1.0   \n2             0.0     0.0  0.0  ...                26.0   \n3             0.0     0.0  0.0  ...               255.0   \n4             0.0     0.0  0.0  ...               255.0   \n5             0.0     0.0  0.0  ...                19.0   \n6             0.0     0.0  0.0  ...                 9.0   \n7             0.0     0.0  0.0  ...                15.0   \n8             0.0     0.0  0.0  ...                23.0   \n9             0.0     0.0  0.0  ...                13.0   \n\n  dst_host_same_srv_rate  dst_host_diff_srv_rate  dst_host_same_src_port_rate  \\\n0                   0.17                    0.03                         0.17   \n1                   0.00                    0.60                         0.88   \n2                   0.10                    0.05                         0.00   \n3                   1.00                    0.00                         0.03   \n4                   1.00                    0.00                         0.00   \n5                   0.07                    0.07                         0.00   \n6                   0.04                    0.05                         0.00   \n7                   0.06                    0.07                         0.00   \n8                   0.09                    0.05                         0.00   \n9                   0.05                    0.06                         0.00   \n\n   dst_host_srv_diff_host_rate  dst_host_serror_rate  \\\n0                         0.00                  0.00   \n1                         0.00                  0.00   \n2                         0.00                  1.00   \n3                         0.04                  0.03   \n4                         0.00                  0.00   \n5                         0.00                  0.00   \n6                         0.00                  1.00   \n7                         0.00                  1.00   \n8                         0.00                  1.00   \n9                         0.00                  1.00   \n\n   dst_host_srv_serror_rate  dst_host_rerror_rate  dst_host_srv_rerror_rate  \\\n0                      0.00                  0.05                      0.00   \n1                      0.00                  0.00                      0.00   \n2                      1.00                  0.00                      0.00   \n3                      0.01                  0.00                      0.01   \n4                      0.00                  0.00                      0.00   \n5                      0.00                  1.00                      1.00   \n6                      1.00                  0.00                      0.00   \n7                      1.00                  0.00                      0.00   \n8                      1.00                  0.00                      0.00   \n9                      1.00                  0.00                      0.00   \n\n     class  \n0   normal  \n1   normal  \n2  anomaly  \n3   normal  \n4   normal  \n5  anomaly  \n6  anomaly  \n7  anomaly  \n8  anomaly  \n9  anomaly  \n\n[10 rows x 42 columns]",
      "text/html": "<div>\n<style scoped>\n    .dataframe tbody tr th:only-of-type {\n        vertical-align: middle;\n    }\n\n    .dataframe tbody tr th {\n        vertical-align: top;\n    }\n\n    .dataframe thead th {\n        text-align: right;\n    }\n</style>\n<table border=\"1\" class=\"dataframe\">\n  <thead>\n    <tr style=\"text-align: right;\">\n      <th></th>\n      <th>duration</th>\n      <th>protocol_type</th>\n      <th>service</th>\n      <th>flag</th>\n      <th>src_bytes</th>\n      <th>dst_bytes</th>\n      <th>land</th>\n      <th>wrong_fragment</th>\n      <th>urgent</th>\n      <th>hot</th>\n      <th>...</th>\n      <th>dst_host_srv_count</th>\n      <th>dst_host_same_srv_rate</th>\n      <th>dst_host_diff_srv_rate</th>\n      <th>dst_host_same_src_port_rate</th>\n      <th>dst_host_srv_diff_host_rate</th>\n      <th>dst_host_serror_rate</th>\n      <th>dst_host_srv_serror_rate</th>\n      <th>dst_host_rerror_rate</th>\n      <th>dst_host_srv_rerror_rate</th>\n      <th>class</th>\n    </tr>\n  </thead>\n  <tbody>\n    <tr>\n      <th>0</th>\n      <td>0.0</td>\n      <td>tcp</td>\n      <td>ftp_data</td>\n      <td>SF</td>\n      <td>491.0</td>\n      <td>0.0</td>\n      <td>0</td>\n      <td>0.0</td>\n      <td>0.0</td>\n      <td>0.0</td>\n      <td>...</td>\n      <td>25.0</td>\n      <td>0.17</td>\n      <td>0.03</td>\n      <td>0.17</td>\n      <td>0.00</td>\n      <td>0.00</td>\n      <td>0.00</td>\n      <td>0.05</td>\n      <td>0.00</td>\n      <td>normal</td>\n    </tr>\n    <tr>\n      <th>1</th>\n      <td>0.0</td>\n      <td>udp</td>\n      <td>other</td>\n      <td>SF</td>\n      <td>146.0</td>\n      <td>0.0</td>\n      <td>0</td>\n      <td>0.0</td>\n      <td>0.0</td>\n      <td>0.0</td>\n      <td>...</td>\n      <td>1.0</td>\n      <td>0.00</td>\n      <td>0.60</td>\n      <td>0.88</td>\n      <td>0.00</td>\n      <td>0.00</td>\n      <td>0.00</td>\n      <td>0.00</td>\n      <td>0.00</td>\n      <td>normal</td>\n    </tr>\n    <tr>\n      <th>2</th>\n      <td>0.0</td>\n      <td>tcp</td>\n      <td>private</td>\n      <td>S0</td>\n      <td>0.0</td>\n      <td>0.0</td>\n      <td>0</td>\n      <td>0.0</td>\n      <td>0.0</td>\n      <td>0.0</td>\n      <td>...</td>\n      <td>26.0</td>\n      <td>0.10</td>\n      <td>0.05</td>\n      <td>0.00</td>\n      <td>0.00</td>\n      <td>1.00</td>\n      <td>1.00</td>\n      <td>0.00</td>\n      <td>0.00</td>\n      <td>anomaly</td>\n    </tr>\n    <tr>\n      <th>3</th>\n      <td>0.0</td>\n      <td>tcp</td>\n      <td>http</td>\n      <td>SF</td>\n      <td>232.0</td>\n      <td>8153.0</td>\n      <td>0</td>\n      <td>0.0</td>\n      <td>0.0</td>\n      <td>0.0</td>\n      <td>...</td>\n      <td>255.0</td>\n      <td>1.00</td>\n      <td>0.00</td>\n      <td>0.03</td>\n      <td>0.04</td>\n      <td>0.03</td>\n      <td>0.01</td>\n      <td>0.00</td>\n      <td>0.01</td>\n      <td>normal</td>\n    </tr>\n    <tr>\n      <th>4</th>\n      <td>0.0</td>\n      <td>tcp</td>\n      <td>http</td>\n      <td>SF</td>\n      <td>199.0</td>\n      <td>420.0</td>\n      <td>0</td>\n      <td>0.0</td>\n      <td>0.0</td>\n      <td>0.0</td>\n      <td>...</td>\n      <td>255.0</td>\n      <td>1.00</td>\n      <td>0.00</td>\n      <td>0.00</td>\n      <td>0.00</td>\n      <td>0.00</td>\n      <td>0.00</td>\n      <td>0.00</td>\n      <td>0.00</td>\n      <td>normal</td>\n    </tr>\n    <tr>\n      <th>5</th>\n      <td>0.0</td>\n      <td>tcp</td>\n      <td>private</td>\n      <td>REJ</td>\n      <td>0.0</td>\n      <td>0.0</td>\n      <td>0</td>\n      <td>0.0</td>\n      <td>0.0</td>\n      <td>0.0</td>\n      <td>...</td>\n      <td>19.0</td>\n      <td>0.07</td>\n      <td>0.07</td>\n      <td>0.00</td>\n      <td>0.00</td>\n      <td>0.00</td>\n      <td>0.00</td>\n      <td>1.00</td>\n      <td>1.00</td>\n      <td>anomaly</td>\n    </tr>\n    <tr>\n      <th>6</th>\n      <td>0.0</td>\n      <td>tcp</td>\n      <td>private</td>\n      <td>S0</td>\n      <td>0.0</td>\n      <td>0.0</td>\n      <td>0</td>\n      <td>0.0</td>\n      <td>0.0</td>\n      <td>0.0</td>\n      <td>...</td>\n      <td>9.0</td>\n      <td>0.04</td>\n      <td>0.05</td>\n      <td>0.00</td>\n      <td>0.00</td>\n      <td>1.00</td>\n      <td>1.00</td>\n      <td>0.00</td>\n      <td>0.00</td>\n      <td>anomaly</td>\n    </tr>\n    <tr>\n      <th>7</th>\n      <td>0.0</td>\n      <td>tcp</td>\n      <td>private</td>\n      <td>S0</td>\n      <td>0.0</td>\n      <td>0.0</td>\n      <td>0</td>\n      <td>0.0</td>\n      <td>0.0</td>\n      <td>0.0</td>\n      <td>...</td>\n      <td>15.0</td>\n      <td>0.06</td>\n      <td>0.07</td>\n      <td>0.00</td>\n      <td>0.00</td>\n      <td>1.00</td>\n      <td>1.00</td>\n      <td>0.00</td>\n      <td>0.00</td>\n      <td>anomaly</td>\n    </tr>\n    <tr>\n      <th>8</th>\n      <td>0.0</td>\n      <td>tcp</td>\n      <td>remote_job</td>\n      <td>S0</td>\n      <td>0.0</td>\n      <td>0.0</td>\n      <td>0</td>\n      <td>0.0</td>\n      <td>0.0</td>\n      <td>0.0</td>\n      <td>...</td>\n      <td>23.0</td>\n      <td>0.09</td>\n      <td>0.05</td>\n      <td>0.00</td>\n      <td>0.00</td>\n      <td>1.00</td>\n      <td>1.00</td>\n      <td>0.00</td>\n      <td>0.00</td>\n      <td>anomaly</td>\n    </tr>\n    <tr>\n      <th>9</th>\n      <td>0.0</td>\n      <td>tcp</td>\n      <td>private</td>\n      <td>S0</td>\n      <td>0.0</td>\n      <td>0.0</td>\n      <td>0</td>\n      <td>0.0</td>\n      <td>0.0</td>\n      <td>0.0</td>\n      <td>...</td>\n      <td>13.0</td>\n      <td>0.05</td>\n      <td>0.06</td>\n      <td>0.00</td>\n      <td>0.00</td>\n      <td>1.00</td>\n      <td>1.00</td>\n      <td>0.00</td>\n      <td>0.00</td>\n      <td>anomaly</td>\n    </tr>\n  </tbody>\n</table>\n<p>10 rows × 42 columns</p>\n</div>"
     },
     "execution_count": 4,
     "metadata": {},
     "output_type": "execute_result"
    }
   ],
   "source": [
    "#Load the data\n",
    "kdd_df = load_kdd_dataset(\"../../../../data/raw/NSL-KDD/KDDTrain+.arff\")\n",
    "kdd_df.head(10)"
   ],
   "metadata": {
    "collapsed": false,
    "ExecuteTime": {
     "end_time": "2023-06-21T05:12:27.808824Z",
     "start_time": "2023-06-21T05:12:24.355486Z"
    }
   }
  }
 ],
 "metadata": {
  "kernelspec": {
   "display_name": "Python 3",
   "language": "python",
   "name": "python3"
  },
  "language_info": {
   "codemirror_mode": {
    "name": "ipython",
    "version": 2
   },
   "file_extension": ".py",
   "mimetype": "text/x-python",
   "name": "python",
   "nbconvert_exporter": "python",
   "pygments_lexer": "ipython2",
   "version": "2.7.6"
  }
 },
 "nbformat": 4,
 "nbformat_minor": 0
}
