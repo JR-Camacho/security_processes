{
 "cells": [
  {
   "cell_type": "markdown",
   "source": [
    "Process the data"
   ],
   "metadata": {
    "collapsed": false
   }
  },
  {
   "cell_type": "code",
   "execution_count": 1,
   "outputs": [
    {
     "ename": "ModuleNotFoundError",
     "evalue": "No module named 'arff'",
     "output_type": "error",
     "traceback": [
      "\u001B[0;31m---------------------------------------------------------------------------\u001B[0m",
      "\u001B[0;31mModuleNotFoundError\u001B[0m                       Traceback (most recent call last)",
      "Cell \u001B[0;32mIn[1], line 1\u001B[0m\n\u001B[0;32m----> 1\u001B[0m \u001B[38;5;28;01mfrom\u001B[39;00m \u001B[38;5;21;01msrc\u001B[39;00m\u001B[38;5;21;01m.\u001B[39;00m\u001B[38;5;21;01mutils\u001B[39;00m\u001B[38;5;21;01m.\u001B[39;00m\u001B[38;5;21;01mload_data\u001B[39;00m \u001B[38;5;28;01mimport\u001B[39;00m load_kdd_dataset\n\u001B[1;32m      2\u001B[0m \u001B[38;5;28;01mfrom\u001B[39;00m \u001B[38;5;21;01msrc\u001B[39;00m\u001B[38;5;21;01m.\u001B[39;00m\u001B[38;5;21;01mutils\u001B[39;00m\u001B[38;5;21;01m.\u001B[39;00m\u001B[38;5;21;01msplit_data\u001B[39;00m \u001B[38;5;28;01mimport\u001B[39;00m train_val_test_split\n\u001B[1;32m      4\u001B[0m \u001B[38;5;28;01mfrom\u001B[39;00m \u001B[38;5;21;01msrc\u001B[39;00m\u001B[38;5;21;01m.\u001B[39;00m\u001B[38;5;21;01mtransformers\u001B[39;00m\u001B[38;5;21;01m.\u001B[39;00m\u001B[38;5;21;01mcustom_data_frame_preparer\u001B[39;00m \u001B[38;5;28;01mimport\u001B[39;00m DataFramePreparer\n",
      "File \u001B[0;32m~/Desktop/Projects/security/ml/src/utils/load_data.py:1\u001B[0m\n\u001B[0;32m----> 1\u001B[0m \u001B[38;5;28;01mimport\u001B[39;00m \u001B[38;5;21;01marff\u001B[39;00m\n\u001B[1;32m      2\u001B[0m \u001B[38;5;28;01mimport\u001B[39;00m \u001B[38;5;21;01mpandas\u001B[39;00m \u001B[38;5;28;01mas\u001B[39;00m \u001B[38;5;21;01mpd\u001B[39;00m\n\u001B[1;32m      4\u001B[0m \u001B[38;5;28;01mdef\u001B[39;00m \u001B[38;5;21mload_kdd_dataset\u001B[39m(data_path):\n",
      "\u001B[0;31mModuleNotFoundError\u001B[0m: No module named 'arff'"
     ]
    }
   ],
   "source": [
    "from src.utils.load_data import load_kdd_dataset\n",
    "from src.utils.split_data import train_val_test_split\n",
    "\n",
    "from src.transformers.custom_data_frame_preparer import DataFramePreparer\n",
    "\n",
    "import numpy as np"
   ],
   "metadata": {
    "collapsed": false,
    "ExecuteTime": {
     "end_time": "2023-06-22T16:25:16.869177Z",
     "start_time": "2023-06-22T16:25:16.581635Z"
    }
   }
  },
  {
   "cell_type": "code",
   "execution_count": null,
   "outputs": [],
   "source": [
    "#Load the dataset\n",
    "kdd_df = load_kdd_dataset(\"../../../../data/raw/NSL-KDD/KDDTrain+.arff\")"
   ],
   "metadata": {
    "collapsed": false,
    "is_executing": true
   }
  },
  {
   "cell_type": "code",
   "execution_count": 18,
   "outputs": [],
   "source": [
    "#Split the data\n",
    "train_set, val_set, test_set = train_val_test_split(kdd_df)\n",
    "\n",
    "# General dataset\n",
    "X_kdd_df = kdd_df.drop(\"class\", axis=1)\n",
    "y_kdd_df = kdd_df[\"class\"].copy()\n",
    "\n",
    "# Train data\n",
    "X_train = train_set.drop(\"class\", axis=1)\n",
    "y_train = train_set[\"class\"].copy()\n",
    "\n",
    "# Test data\n",
    "X_test = test_set.drop(\"class\", axis=1)\n",
    "y_test = test_set[\"class\"].copy()"
   ],
   "metadata": {
    "collapsed": false,
    "ExecuteTime": {
     "end_time": "2023-06-21T06:05:20.942423Z",
     "start_time": "2023-06-21T06:05:20.676754Z"
    }
   }
  },
  {
   "cell_type": "code",
   "execution_count": 19,
   "outputs": [
    {
     "name": "stderr",
     "output_type": "stream",
     "text": [
      "/Users/josecamacho/PycharmProjects/security/venv/lib/python3.11/site-packages/sklearn/preprocessing/_encoders.py:868: FutureWarning: `sparse` was renamed to `sparse_output` in version 1.2 and will be removed in 1.4. `sparse_output` is ignored unless you leave `sparse` to its default value.\n",
      "  warnings.warn(\n"
     ]
    }
   ],
   "source": [
    "#Prepare dataset\n",
    "#Instance the data preparer\n",
    "data_preparer = DataFramePreparer()\n",
    "\n",
    "#fit the data preparer\n",
    "data_preparer.fit(X_kdd_df)\n",
    "\n",
    "#Transform the train data and the test data\n",
    "X_train_prep = data_preparer.transform(X_train)\n",
    "X_test_prep = data_preparer.transform(X_test)"
   ],
   "metadata": {
    "collapsed": false,
    "ExecuteTime": {
     "end_time": "2023-06-21T06:05:54.576410Z",
     "start_time": "2023-06-21T06:05:51.612897Z"
    }
   }
  },
  {
   "cell_type": "code",
   "execution_count": 20,
   "outputs": [],
   "source": [
    "#Save the data\n",
    "np.savez('../../../../data/processed/kdd/train_data', inputs=X_train_prep, targets=y_train)\n",
    "np.savez('../../../../data/processed/kdd/test_data', inputs=X_test_prep, targets=y_test)"
   ],
   "metadata": {
    "collapsed": false,
    "ExecuteTime": {
     "end_time": "2023-06-21T06:05:54.753387Z",
     "start_time": "2023-06-21T06:05:54.577829Z"
    }
   }
  }
 ],
 "metadata": {
  "kernelspec": {
   "display_name": "Python 3",
   "language": "python",
   "name": "python3"
  },
  "language_info": {
   "codemirror_mode": {
    "name": "ipython",
    "version": 2
   },
   "file_extension": ".py",
   "mimetype": "text/x-python",
   "name": "python",
   "nbconvert_exporter": "python",
   "pygments_lexer": "ipython2",
   "version": "2.7.6"
  }
 },
 "nbformat": 4,
 "nbformat_minor": 0
}
